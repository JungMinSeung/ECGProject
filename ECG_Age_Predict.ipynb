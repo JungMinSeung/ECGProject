{
  "nbformat": 4,
  "nbformat_minor": 0,
  "metadata": {
    "accelerator": "GPU",
    "colab": {
      "name": "ECG_Age_Predict.ipynb",
      "provenance": [],
      "collapsed_sections": [],
      "toc_visible": true,
      "include_colab_link": true
    },
    "kernelspec": {
      "display_name": "Python 3",
      "language": "python",
      "name": "python3"
    },
    "language_info": {
      "codemirror_mode": {
        "name": "ipython",
        "version": 3
      },
      "file_extension": ".py",
      "mimetype": "text/x-python",
      "name": "python",
      "nbconvert_exporter": "python",
      "pygments_lexer": "ipython3",
      "version": "3.7.3"
    }
  },
  "cells": [
    {
      "cell_type": "markdown",
      "metadata": {
        "id": "view-in-github",
        "colab_type": "text"
      },
      "source": [
        "<a href=\"https://colab.research.google.com/github/yoonji811/ECGProject/blob/master/ECG_Age_Predict.ipynb\" target=\"_parent\"><img src=\"https://colab.research.google.com/assets/colab-badge.svg\" alt=\"Open In Colab\"/></a>"
      ]
    },
    {
      "cell_type": "code",
      "metadata": {
        "id": "h5hxALVJaKt4",
        "colab_type": "code",
        "colab": {
          "base_uri": "https://localhost:8080/",
          "height": 127
        },
        "outputId": "047b80d9-a1ee-410d-9216-f733dbf6557f"
      },
      "source": [
        "from google.colab import drive\n",
        "drive.mount('/content/drive')"
      ],
      "execution_count": 1,
      "outputs": [
        {
          "output_type": "stream",
          "text": [
            "Go to this URL in a browser: https://accounts.google.com/o/oauth2/auth?client_id=947318989803-6bn6qk8qdgf4n4g3pfee6491hc0brc4i.apps.googleusercontent.com&redirect_uri=urn%3aietf%3awg%3aoauth%3a2.0%3aoob&response_type=code&scope=email%20https%3a%2f%2fwww.googleapis.com%2fauth%2fdocs.test%20https%3a%2f%2fwww.googleapis.com%2fauth%2fdrive%20https%3a%2f%2fwww.googleapis.com%2fauth%2fdrive.photos.readonly%20https%3a%2f%2fwww.googleapis.com%2fauth%2fpeopleapi.readonly\n",
            "\n",
            "Enter your authorization code:\n",
            "··········\n",
            "Mounted at /content/drive\n"
          ],
          "name": "stdout"
        }
      ]
    },
    {
      "cell_type": "markdown",
      "metadata": {
        "id": "UWSE5z0IXuW7",
        "colab_type": "text"
      },
      "source": [
        "# Gender Predict From Standard 12-Lead ECGs\n",
        "##### 산학프로젝트 with 세종병원\n",
        "---\n",
        "---"
      ]
    },
    {
      "cell_type": "code",
      "metadata": {
        "colab_type": "code",
        "id": "-OGoNfxJNJM5",
        "colab": {
          "base_uri": "https://localhost:8080/",
          "height": 35
        },
        "outputId": "6855b6c1-4dac-433b-8def-1d6c85e0cf3d"
      },
      "source": [
        "import pandas as pd\n",
        "import numpy as np\n",
        "import matplotlib.pyplot as plt\n",
        "from sklearn.model_selection import train_test_split\n",
        "from keras.utils import to_categorical\n",
        "from sklearn.metrics import roc_curve, roc_auc_score\n",
        "from tensorflow.keras.models import Sequential\n",
        "from tensorflow.keras.layers import Dense, BatchNormalization, Activation, Conv2D, MaxPooling2D, ZeroPadding2D, Dropout,Flatten\n",
        "from tensorflow.keras.optimizers import Adam\n",
        "from tensorflow.keras.callbacks import EarlyStopping, ModelCheckpoint"
      ],
      "execution_count": 1,
      "outputs": [
        {
          "output_type": "stream",
          "text": [
            "Using TensorFlow backend.\n"
          ],
          "name": "stderr"
        }
      ]
    },
    {
      "cell_type": "markdown",
      "metadata": {
        "id": "0j5YrCZCXuXK",
        "colab_type": "text"
      },
      "source": [
        "## **1. Diagnostics & ECG Data**\n",
        "---"
      ]
    },
    {
      "cell_type": "code",
      "metadata": {
        "colab_type": "code",
        "id": "-tkmgbYwNJNI",
        "outputId": "8394c335-3afb-414f-df8c-0a3d376ba5e8",
        "colab": {
          "base_uri": "https://localhost:8080/",
          "height": 439
        }
      },
      "source": [
        "diag = pd.read_excel(\"data/Diagnostics.xlsx\")\n",
        "diag.tail()"
      ],
      "execution_count": 0,
      "outputs": [
        {
          "output_type": "execute_result",
          "data": {
            "text/html": [
              "<div>\n",
              "<style scoped>\n",
              "    .dataframe tbody tr th:only-of-type {\n",
              "        vertical-align: middle;\n",
              "    }\n",
              "\n",
              "    .dataframe tbody tr th {\n",
              "        vertical-align: top;\n",
              "    }\n",
              "\n",
              "    .dataframe thead th {\n",
              "        text-align: right;\n",
              "    }\n",
              "</style>\n",
              "<table border=\"1\" class=\"dataframe\">\n",
              "  <thead>\n",
              "    <tr style=\"text-align: right;\">\n",
              "      <th></th>\n",
              "      <th>FileName</th>\n",
              "      <th>Rhythm</th>\n",
              "      <th>Beat</th>\n",
              "      <th>PatientAge</th>\n",
              "      <th>DateofBirth</th>\n",
              "      <th>Gender</th>\n",
              "      <th>VentricularRate</th>\n",
              "      <th>AtrialRate</th>\n",
              "      <th>QRSDuration</th>\n",
              "      <th>QTInterval</th>\n",
              "      <th>QTCorrected</th>\n",
              "      <th>RAxis</th>\n",
              "      <th>TAxis</th>\n",
              "      <th>QRSCount</th>\n",
              "      <th>QOnset</th>\n",
              "      <th>QOffset</th>\n",
              "      <th>TOffset</th>\n",
              "    </tr>\n",
              "  </thead>\n",
              "  <tbody>\n",
              "    <tr>\n",
              "      <th>10641</th>\n",
              "      <td>MUSE_20181222_204306_99000</td>\n",
              "      <td>SVT</td>\n",
              "      <td>NONE</td>\n",
              "      <td>80</td>\n",
              "      <td>06-03-1937</td>\n",
              "      <td>FEMALE</td>\n",
              "      <td>196</td>\n",
              "      <td>73</td>\n",
              "      <td>168</td>\n",
              "      <td>284</td>\n",
              "      <td>513</td>\n",
              "      <td>258</td>\n",
              "      <td>244</td>\n",
              "      <td>32</td>\n",
              "      <td>177</td>\n",
              "      <td>261</td>\n",
              "      <td>319</td>\n",
              "    </tr>\n",
              "    <tr>\n",
              "      <th>10642</th>\n",
              "      <td>MUSE_20181222_204309_22000</td>\n",
              "      <td>SVT</td>\n",
              "      <td>NONE</td>\n",
              "      <td>81</td>\n",
              "      <td>10-21-1936</td>\n",
              "      <td>FEMALE</td>\n",
              "      <td>162</td>\n",
              "      <td>81</td>\n",
              "      <td>162</td>\n",
              "      <td>294</td>\n",
              "      <td>482</td>\n",
              "      <td>110</td>\n",
              "      <td>-75</td>\n",
              "      <td>27</td>\n",
              "      <td>173</td>\n",
              "      <td>254</td>\n",
              "      <td>320</td>\n",
              "    </tr>\n",
              "    <tr>\n",
              "      <th>10643</th>\n",
              "      <td>MUSE_20181222_204310_31000</td>\n",
              "      <td>SVT</td>\n",
              "      <td>NONE</td>\n",
              "      <td>39</td>\n",
              "      <td>10-28-1978</td>\n",
              "      <td>MALE</td>\n",
              "      <td>152</td>\n",
              "      <td>92</td>\n",
              "      <td>152</td>\n",
              "      <td>340</td>\n",
              "      <td>540</td>\n",
              "      <td>250</td>\n",
              "      <td>38</td>\n",
              "      <td>25</td>\n",
              "      <td>208</td>\n",
              "      <td>284</td>\n",
              "      <td>378</td>\n",
              "    </tr>\n",
              "    <tr>\n",
              "      <th>10644</th>\n",
              "      <td>MUSE_20181222_204312_58000</td>\n",
              "      <td>SVT</td>\n",
              "      <td>NONE</td>\n",
              "      <td>76</td>\n",
              "      <td>07-18-1941</td>\n",
              "      <td>MALE</td>\n",
              "      <td>175</td>\n",
              "      <td>178</td>\n",
              "      <td>128</td>\n",
              "      <td>310</td>\n",
              "      <td>529</td>\n",
              "      <td>98</td>\n",
              "      <td>-83</td>\n",
              "      <td>29</td>\n",
              "      <td>205</td>\n",
              "      <td>269</td>\n",
              "      <td>360</td>\n",
              "    </tr>\n",
              "    <tr>\n",
              "      <th>10645</th>\n",
              "      <td>MUSE_20181222_204314_78000</td>\n",
              "      <td>SVT</td>\n",
              "      <td>NONE</td>\n",
              "      <td>75</td>\n",
              "      <td>10-22-1943</td>\n",
              "      <td>MALE</td>\n",
              "      <td>117</td>\n",
              "      <td>104</td>\n",
              "      <td>140</td>\n",
              "      <td>312</td>\n",
              "      <td>435</td>\n",
              "      <td>263</td>\n",
              "      <td>144</td>\n",
              "      <td>19</td>\n",
              "      <td>208</td>\n",
              "      <td>278</td>\n",
              "      <td>364</td>\n",
              "    </tr>\n",
              "  </tbody>\n",
              "</table>\n",
              "</div>"
            ],
            "text/plain": [
              "                         FileName Rhythm  Beat  PatientAge DateofBirth  \\\n",
              "10641  MUSE_20181222_204306_99000    SVT  NONE          80  06-03-1937   \n",
              "10642  MUSE_20181222_204309_22000    SVT  NONE          81  10-21-1936   \n",
              "10643  MUSE_20181222_204310_31000    SVT  NONE          39  10-28-1978   \n",
              "10644  MUSE_20181222_204312_58000    SVT  NONE          76  07-18-1941   \n",
              "10645  MUSE_20181222_204314_78000    SVT  NONE          75  10-22-1943   \n",
              "\n",
              "       Gender  VentricularRate  AtrialRate  QRSDuration  QTInterval  \\\n",
              "10641  FEMALE              196          73          168         284   \n",
              "10642  FEMALE              162          81          162         294   \n",
              "10643    MALE              152          92          152         340   \n",
              "10644    MALE              175         178          128         310   \n",
              "10645    MALE              117         104          140         312   \n",
              "\n",
              "       QTCorrected  RAxis  TAxis  QRSCount  QOnset  QOffset  TOffset  \n",
              "10641          513    258    244        32     177      261      319  \n",
              "10642          482    110    -75        27     173      254      320  \n",
              "10643          540    250     38        25     208      284      378  \n",
              "10644          529     98    -83        29     205      269      360  \n",
              "10645          435    263    144        19     208      278      364  "
            ]
          },
          "metadata": {
            "tags": []
          },
          "execution_count": 9
        }
      ]
    },
    {
      "cell_type": "code",
      "metadata": {
        "id": "Q88aF9CjXuXU",
        "colab_type": "code",
        "colab": {}
      },
      "source": [
        "male = diag[diag.Gender=='MALE'].sample(2500, random_state=42)\n",
        "female = diag[diag.Gender=='FEMALE'].sample(2500, random_state=42)"
      ],
      "execution_count": 0,
      "outputs": []
    },
    {
      "cell_type": "code",
      "metadata": {
        "scrolled": true,
        "id": "No59pwpTXuXa",
        "colab_type": "code",
        "outputId": "09e68f38-06eb-4cb3-ff7f-2d7c79cbba40",
        "colab": {}
      },
      "source": [
        "diag5_balanced = pd.concat([male,female],axis=0).sort_index()\n",
        "diag5_balanced.tail()"
      ],
      "execution_count": 0,
      "outputs": [
        {
          "output_type": "execute_result",
          "data": {
            "text/html": [
              "<div>\n",
              "<style scoped>\n",
              "    .dataframe tbody tr th:only-of-type {\n",
              "        vertical-align: middle;\n",
              "    }\n",
              "\n",
              "    .dataframe tbody tr th {\n",
              "        vertical-align: top;\n",
              "    }\n",
              "\n",
              "    .dataframe thead th {\n",
              "        text-align: right;\n",
              "    }\n",
              "</style>\n",
              "<table border=\"1\" class=\"dataframe\">\n",
              "  <thead>\n",
              "    <tr style=\"text-align: right;\">\n",
              "      <th></th>\n",
              "      <th>FileName</th>\n",
              "      <th>Rhythm</th>\n",
              "      <th>Beat</th>\n",
              "      <th>PatientAge</th>\n",
              "      <th>DateofBirth</th>\n",
              "      <th>Gender</th>\n",
              "      <th>VentricularRate</th>\n",
              "      <th>AtrialRate</th>\n",
              "      <th>QRSDuration</th>\n",
              "      <th>QTInterval</th>\n",
              "      <th>QTCorrected</th>\n",
              "      <th>RAxis</th>\n",
              "      <th>TAxis</th>\n",
              "      <th>QRSCount</th>\n",
              "      <th>QOnset</th>\n",
              "      <th>QOffset</th>\n",
              "      <th>TOffset</th>\n",
              "    </tr>\n",
              "  </thead>\n",
              "  <tbody>\n",
              "    <tr>\n",
              "      <th>10638</th>\n",
              "      <td>MUSE_20181222_204249_88000</td>\n",
              "      <td>SVT</td>\n",
              "      <td>NONE</td>\n",
              "      <td>69</td>\n",
              "      <td>04-21-1948</td>\n",
              "      <td>MALE</td>\n",
              "      <td>178</td>\n",
              "      <td>170</td>\n",
              "      <td>122</td>\n",
              "      <td>308</td>\n",
              "      <td>530</td>\n",
              "      <td>57</td>\n",
              "      <td>225</td>\n",
              "      <td>29</td>\n",
              "      <td>203</td>\n",
              "      <td>264</td>\n",
              "      <td>357</td>\n",
              "    </tr>\n",
              "    <tr>\n",
              "      <th>10639</th>\n",
              "      <td>MUSE_20181222_204302_49000</td>\n",
              "      <td>SVT</td>\n",
              "      <td>NONE</td>\n",
              "      <td>36</td>\n",
              "      <td>03-06-1981</td>\n",
              "      <td>MALE</td>\n",
              "      <td>220</td>\n",
              "      <td>220</td>\n",
              "      <td>110</td>\n",
              "      <td>224</td>\n",
              "      <td>428</td>\n",
              "      <td>-77</td>\n",
              "      <td>79</td>\n",
              "      <td>36</td>\n",
              "      <td>212</td>\n",
              "      <td>267</td>\n",
              "      <td>324</td>\n",
              "    </tr>\n",
              "    <tr>\n",
              "      <th>10641</th>\n",
              "      <td>MUSE_20181222_204306_99000</td>\n",
              "      <td>SVT</td>\n",
              "      <td>NONE</td>\n",
              "      <td>80</td>\n",
              "      <td>06-03-1937</td>\n",
              "      <td>FEMALE</td>\n",
              "      <td>196</td>\n",
              "      <td>73</td>\n",
              "      <td>168</td>\n",
              "      <td>284</td>\n",
              "      <td>513</td>\n",
              "      <td>258</td>\n",
              "      <td>244</td>\n",
              "      <td>32</td>\n",
              "      <td>177</td>\n",
              "      <td>261</td>\n",
              "      <td>319</td>\n",
              "    </tr>\n",
              "    <tr>\n",
              "      <th>10642</th>\n",
              "      <td>MUSE_20181222_204309_22000</td>\n",
              "      <td>SVT</td>\n",
              "      <td>NONE</td>\n",
              "      <td>81</td>\n",
              "      <td>10-21-1936</td>\n",
              "      <td>FEMALE</td>\n",
              "      <td>162</td>\n",
              "      <td>81</td>\n",
              "      <td>162</td>\n",
              "      <td>294</td>\n",
              "      <td>482</td>\n",
              "      <td>110</td>\n",
              "      <td>-75</td>\n",
              "      <td>27</td>\n",
              "      <td>173</td>\n",
              "      <td>254</td>\n",
              "      <td>320</td>\n",
              "    </tr>\n",
              "    <tr>\n",
              "      <th>10645</th>\n",
              "      <td>MUSE_20181222_204314_78000</td>\n",
              "      <td>SVT</td>\n",
              "      <td>NONE</td>\n",
              "      <td>75</td>\n",
              "      <td>10-22-1943</td>\n",
              "      <td>MALE</td>\n",
              "      <td>117</td>\n",
              "      <td>104</td>\n",
              "      <td>140</td>\n",
              "      <td>312</td>\n",
              "      <td>435</td>\n",
              "      <td>263</td>\n",
              "      <td>144</td>\n",
              "      <td>19</td>\n",
              "      <td>208</td>\n",
              "      <td>278</td>\n",
              "      <td>364</td>\n",
              "    </tr>\n",
              "  </tbody>\n",
              "</table>\n",
              "</div>"
            ],
            "text/plain": [
              "                         FileName Rhythm  Beat  PatientAge DateofBirth  \\\n",
              "10638  MUSE_20181222_204249_88000    SVT  NONE          69  04-21-1948   \n",
              "10639  MUSE_20181222_204302_49000    SVT  NONE          36  03-06-1981   \n",
              "10641  MUSE_20181222_204306_99000    SVT  NONE          80  06-03-1937   \n",
              "10642  MUSE_20181222_204309_22000    SVT  NONE          81  10-21-1936   \n",
              "10645  MUSE_20181222_204314_78000    SVT  NONE          75  10-22-1943   \n",
              "\n",
              "       Gender  VentricularRate  AtrialRate  QRSDuration  QTInterval  \\\n",
              "10638    MALE              178         170          122         308   \n",
              "10639    MALE              220         220          110         224   \n",
              "10641  FEMALE              196          73          168         284   \n",
              "10642  FEMALE              162          81          162         294   \n",
              "10645    MALE              117         104          140         312   \n",
              "\n",
              "       QTCorrected  RAxis  TAxis  QRSCount  QOnset  QOffset  TOffset  \n",
              "10638          530     57    225        29     203      264      357  \n",
              "10639          428    -77     79        36     212      267      324  \n",
              "10641          513    258    244        32     177      261      319  \n",
              "10642          482    110    -75        27     173      254      320  \n",
              "10645          435    263    144        19     208      278      364  "
            ]
          },
          "metadata": {
            "tags": []
          },
          "execution_count": 8
        }
      ]
    },
    {
      "cell_type": "code",
      "metadata": {
        "colab_type": "code",
        "id": "A5XRiU3XQkoo",
        "outputId": "7b74598a-3dc4-4adf-b207-31da12088114",
        "colab": {
          "base_uri": "https://localhost:8080/",
          "height": 71
        }
      },
      "source": [
        "diag5_balanced.Gender.value_counts()"
      ],
      "execution_count": 0,
      "outputs": [
        {
          "output_type": "execute_result",
          "data": {
            "text/plain": [
              "MALE      2500\n",
              "FEMALE    2500\n",
              "Name: Gender, dtype: int64"
            ]
          },
          "metadata": {
            "tags": []
          },
          "execution_count": 13
        }
      ]
    },
    {
      "cell_type": "code",
      "metadata": {
        "id": "EW2VzyFvnou6",
        "colab_type": "code",
        "colab": {
          "base_uri": "https://localhost:8080/",
          "height": 179
        },
        "outputId": "2740b27f-3308-4d69-d39e-2dfee234a2a5"
      },
      "source": [
        "diag5_balanced.PatientAge.describe()"
      ],
      "execution_count": 27,
      "outputs": [
        {
          "output_type": "execute_result",
          "data": {
            "text/plain": [
              "count    5000.000000\n",
              "mean       58.906600\n",
              "std        18.036456\n",
              "min         4.000000\n",
              "25%        49.000000\n",
              "50%        61.000000\n",
              "75%        71.000000\n",
              "max        98.000000\n",
              "Name: PatientAge, dtype: float64"
            ]
          },
          "metadata": {
            "tags": []
          },
          "execution_count": 27
        }
      ]
    },
    {
      "cell_type": "code",
      "metadata": {
        "id": "gmAYqehnXuXo",
        "colab_type": "code",
        "colab": {}
      },
      "source": [
        "#diag5_balanced.to_excel(\"data/Diagnostics_balanced5000.xlsx\")\n",
        "diag5_balanced = pd.read_excel(\"/content/drive/My Drive/Colab Notebooks/세종병원/Diagnostics_balanced5000.xlsx\",index_col=0)"
      ],
      "execution_count": 0,
      "outputs": []
    },
    {
      "cell_type": "markdown",
      "metadata": {
        "id": "1pIXZVZZXuXu",
        "colab_type": "text"
      },
      "source": [
        "## **2. Make 4D Array for CNN**\n",
        "---"
      ]
    },
    {
      "cell_type": "code",
      "metadata": {
        "scrolled": true,
        "id": "JbCpV74JXuXw",
        "colab_type": "code",
        "colab": {}
      },
      "source": [
        "from tqdm.notebook import tqdm\n",
        "\n",
        "ECG5_bal = []\n",
        "for fName in tqdm(diag5_bal.FileName):\n",
        "    df = pd.read_csv(f\"data/ECGData/{fName}.csv\")\n",
        "    df = df.to_numpy()\n",
        "    df = np.transpose(df)\n",
        "    ECG5_bal.append(df)\n",
        "\n",
        "ECG5_bal = np.array(ECG5_bal)"
      ],
      "execution_count": 0,
      "outputs": []
    },
    {
      "cell_type": "code",
      "metadata": {
        "id": "T7T9a-m7XuX4",
        "colab_type": "code",
        "colab": {}
      },
      "source": [
        "ECG = np.reshape(ECG5_bal,(len(diag5_bal),12,5000,1))"
      ],
      "execution_count": 0,
      "outputs": []
    },
    {
      "cell_type": "code",
      "metadata": {
        "id": "xDIEpn8SXuX9",
        "colab_type": "code",
        "colab": {}
      },
      "source": [
        "#np.save(\"ECG5_bal_reshape.npy\", ECG)\n",
        "ECG = np.load(\"/content/drive/My Drive/Colab Notebooks/세종병원/ECG5_bal_reshape.npy\")"
      ],
      "execution_count": 0,
      "outputs": []
    },
    {
      "cell_type": "code",
      "metadata": {
        "colab_type": "code",
        "id": "TJ1wJpJENJOX",
        "outputId": "73ddef68-3fff-42c8-a054-9ad6fdb83a7e",
        "colab": {
          "base_uri": "https://localhost:8080/",
          "height": 35
        }
      },
      "source": [
        "print(ECG.shape)"
      ],
      "execution_count": 4,
      "outputs": [
        {
          "output_type": "stream",
          "text": [
            "(5000, 12, 5000, 1)\n"
          ],
          "name": "stdout"
        }
      ]
    },
    {
      "cell_type": "markdown",
      "metadata": {
        "colab_type": "text",
        "id": "3NGz0izqNJOj"
      },
      "source": [
        "## **3. Data Split**\n",
        "---"
      ]
    },
    {
      "cell_type": "code",
      "metadata": {
        "colab_type": "code",
        "id": "zh9Axz9-NJNf",
        "outputId": "099afa0c-58c8-4062-8ce5-33df66c0d6dd",
        "colab": {
          "base_uri": "https://localhost:8080/",
          "height": 125
        }
      },
      "source": [
        "label_age = diag5_balanced.PatientAge\n",
        "label_age.tail()"
      ],
      "execution_count": 5,
      "outputs": [
        {
          "output_type": "execute_result",
          "data": {
            "text/plain": [
              "10638    69\n",
              "10639    36\n",
              "10641    80\n",
              "10642    81\n",
              "10645    75\n",
              "Name: PatientAge, dtype: int64"
            ]
          },
          "metadata": {
            "tags": []
          },
          "execution_count": 5
        }
      ]
    },
    {
      "cell_type": "code",
      "metadata": {
        "colab_type": "code",
        "id": "RdrQwp7vKK28",
        "colab": {}
      },
      "source": [
        "X_train, X_test, y_train, y_test = train_test_split(ECG, label_age, test_size=0.36, shuffle=True, random_state=42)\n",
        "X_train, X_val, y_train, y_val = train_test_split(X_train, y_train, test_size=0.25, shuffle=True, random_state=42)"
      ],
      "execution_count": 0,
      "outputs": []
    },
    {
      "cell_type": "code",
      "metadata": {
        "colab_type": "code",
        "id": "Jrc_dcJ_NJPl",
        "outputId": "d25f5657-2ac8-4ba4-ea08-41813ef7d51e",
        "colab": {
          "base_uri": "https://localhost:8080/",
          "height": 125
        }
      },
      "source": [
        "print(X_train.shape)\n",
        "print(X_val.shape)\n",
        "print(X_test.shape)\n",
        "print(y_train.shape)\n",
        "print(y_val.shape)\n",
        "print(y_test.shape)"
      ],
      "execution_count": 7,
      "outputs": [
        {
          "output_type": "stream",
          "text": [
            "(2400, 12, 5000, 1)\n",
            "(800, 12, 5000, 1)\n",
            "(1800, 12, 5000, 1)\n",
            "(2400,)\n",
            "(800,)\n",
            "(1800,)\n"
          ],
          "name": "stdout"
        }
      ]
    },
    {
      "cell_type": "markdown",
      "metadata": {
        "colab_type": "text",
        "id": "JC4t1CV_71a6"
      },
      "source": [
        "## **4. Build Model & Train**\n",
        "---"
      ]
    },
    {
      "cell_type": "markdown",
      "metadata": {
        "id": "5ZIM3Li5XuZZ",
        "colab_type": "text"
      },
      "source": [
        "- **Temporal Analysis**"
      ]
    },
    {
      "cell_type": "code",
      "metadata": {
        "colab_type": "code",
        "id": "UExXPdVnNJP3",
        "colab": {}
      },
      "source": [
        "model = Sequential()\n",
        "\n",
        "model.add(ZeroPadding2D(padding=(0,2560), input_shape=(12,5000,1)))\n",
        "\n",
        "model.add(Conv2D(filters=16,\n",
        "                kernel_size=(1,7)))\n",
        "model.add(BatchNormalization())\n",
        "model.add(Activation('relu'))\n",
        "model.add(MaxPooling2D(pool_size=(1,2)))\n",
        "\n",
        "model.add(Conv2D(filters=16,\n",
        "                kernel_size=(1,5)))\n",
        "model.add(BatchNormalization())\n",
        "model.add(Activation('relu'))\n",
        "model.add(MaxPooling2D(pool_size=(1,4)))\n",
        "\n",
        "model.add(Conv2D(filters=32,\n",
        "                kernel_size=(1,5)))\n",
        "model.add(BatchNormalization())\n",
        "model.add(Activation('relu'))\n",
        "model.add(MaxPooling2D(pool_size=(1,2)))\n",
        "\n",
        "model.add(Conv2D(filters=32,\n",
        "                kernel_size=(1,5)))\n",
        "model.add(BatchNormalization())\n",
        "model.add(Activation('relu'))\n",
        "model.add(MaxPooling2D(pool_size=(1,4)))\n",
        "\n",
        "model.add(Conv2D(filters=64,\n",
        "                kernel_size=(1,5)))\n",
        "model.add(BatchNormalization())\n",
        "model.add(Activation('relu'))\n",
        "model.add(MaxPooling2D(pool_size=(1,2)))\n",
        "\n",
        "model.add(Conv2D(filters=64,\n",
        "                kernel_size=(1,3)))\n",
        "model.add(BatchNormalization())\n",
        "model.add(Activation('relu'))\n",
        "model.add(MaxPooling2D(pool_size=(1,2)))\n",
        "\n",
        "model.add(Conv2D(filters=64,\n",
        "                kernel_size=(1,3)))\n",
        "model.add(BatchNormalization())\n",
        "model.add(Activation('relu'))\n",
        "model.add(MaxPooling2D(pool_size=(1,2)))\n",
        "\n",
        "model.add(Conv2D(filters=64,\n",
        "                kernel_size=(1,3)))\n",
        "model.add(BatchNormalization())\n",
        "model.add(Activation('relu'))"
      ],
      "execution_count": 0,
      "outputs": []
    },
    {
      "cell_type": "markdown",
      "metadata": {
        "id": "ovZ8xS_mXuZi",
        "colab_type": "text"
      },
      "source": [
        "- **Spatial Analysis**"
      ]
    },
    {
      "cell_type": "code",
      "metadata": {
        "colab_type": "code",
        "id": "CezDFqNqNJQB",
        "colab": {}
      },
      "source": [
        "model.add(Conv2D(filters=128,\n",
        "                kernel_size=(12,1)))\n",
        "model.add(BatchNormalization())\n",
        "model.add(Activation('relu'))\n",
        "model.add(MaxPooling2D(pool_size=(1,2)))"
      ],
      "execution_count": 0,
      "outputs": []
    },
    {
      "cell_type": "markdown",
      "metadata": {
        "id": "uNK7xlmtXuZq",
        "colab_type": "text"
      },
      "source": [
        "- **Flattening + DNN**"
      ]
    },
    {
      "cell_type": "code",
      "metadata": {
        "colab_type": "code",
        "id": "hOIUtaDlNJQJ",
        "colab": {}
      },
      "source": [
        "model.add(Flatten())\n",
        "\n",
        "model.add(Dense(128))\n",
        "model.add(BatchNormalization())\n",
        "model.add(Activation('relu'))\n",
        "model.add(Dropout(0.5)) \n",
        "\n",
        "model.add(Dense(64))\n",
        "model.add(BatchNormalization())\n",
        "model.add(Activation('relu'))\n",
        "model.add(Dropout(0.5)) \n",
        "\n",
        "model.add(Dense(1, activation='linear'))"
      ],
      "execution_count": 0,
      "outputs": []
    },
    {
      "cell_type": "code",
      "metadata": {
        "colab_type": "code",
        "id": "QLILR5uJNJQS",
        "outputId": "0207110e-bbbc-4bd9-fb2b-57157df9ce77",
        "colab": {
          "base_uri": "https://localhost:8080/",
          "height": 1000
        }
      },
      "source": [
        "model.summary()"
      ],
      "execution_count": 11,
      "outputs": [
        {
          "output_type": "stream",
          "text": [
            "Model: \"sequential\"\n",
            "_________________________________________________________________\n",
            "Layer (type)                 Output Shape              Param #   \n",
            "=================================================================\n",
            "zero_padding2d (ZeroPadding2 (None, 12, 10120, 1)      0         \n",
            "_________________________________________________________________\n",
            "conv2d (Conv2D)              (None, 12, 10114, 16)     128       \n",
            "_________________________________________________________________\n",
            "batch_normalization (BatchNo (None, 12, 10114, 16)     64        \n",
            "_________________________________________________________________\n",
            "activation (Activation)      (None, 12, 10114, 16)     0         \n",
            "_________________________________________________________________\n",
            "max_pooling2d (MaxPooling2D) (None, 12, 5057, 16)      0         \n",
            "_________________________________________________________________\n",
            "conv2d_1 (Conv2D)            (None, 12, 5053, 16)      1296      \n",
            "_________________________________________________________________\n",
            "batch_normalization_1 (Batch (None, 12, 5053, 16)      64        \n",
            "_________________________________________________________________\n",
            "activation_1 (Activation)    (None, 12, 5053, 16)      0         \n",
            "_________________________________________________________________\n",
            "max_pooling2d_1 (MaxPooling2 (None, 12, 1263, 16)      0         \n",
            "_________________________________________________________________\n",
            "conv2d_2 (Conv2D)            (None, 12, 1259, 32)      2592      \n",
            "_________________________________________________________________\n",
            "batch_normalization_2 (Batch (None, 12, 1259, 32)      128       \n",
            "_________________________________________________________________\n",
            "activation_2 (Activation)    (None, 12, 1259, 32)      0         \n",
            "_________________________________________________________________\n",
            "max_pooling2d_2 (MaxPooling2 (None, 12, 629, 32)       0         \n",
            "_________________________________________________________________\n",
            "conv2d_3 (Conv2D)            (None, 12, 625, 32)       5152      \n",
            "_________________________________________________________________\n",
            "batch_normalization_3 (Batch (None, 12, 625, 32)       128       \n",
            "_________________________________________________________________\n",
            "activation_3 (Activation)    (None, 12, 625, 32)       0         \n",
            "_________________________________________________________________\n",
            "max_pooling2d_3 (MaxPooling2 (None, 12, 156, 32)       0         \n",
            "_________________________________________________________________\n",
            "conv2d_4 (Conv2D)            (None, 12, 152, 64)       10304     \n",
            "_________________________________________________________________\n",
            "batch_normalization_4 (Batch (None, 12, 152, 64)       256       \n",
            "_________________________________________________________________\n",
            "activation_4 (Activation)    (None, 12, 152, 64)       0         \n",
            "_________________________________________________________________\n",
            "max_pooling2d_4 (MaxPooling2 (None, 12, 76, 64)        0         \n",
            "_________________________________________________________________\n",
            "conv2d_5 (Conv2D)            (None, 12, 74, 64)        12352     \n",
            "_________________________________________________________________\n",
            "batch_normalization_5 (Batch (None, 12, 74, 64)        256       \n",
            "_________________________________________________________________\n",
            "activation_5 (Activation)    (None, 12, 74, 64)        0         \n",
            "_________________________________________________________________\n",
            "max_pooling2d_5 (MaxPooling2 (None, 12, 37, 64)        0         \n",
            "_________________________________________________________________\n",
            "conv2d_6 (Conv2D)            (None, 12, 35, 64)        12352     \n",
            "_________________________________________________________________\n",
            "batch_normalization_6 (Batch (None, 12, 35, 64)        256       \n",
            "_________________________________________________________________\n",
            "activation_6 (Activation)    (None, 12, 35, 64)        0         \n",
            "_________________________________________________________________\n",
            "max_pooling2d_6 (MaxPooling2 (None, 12, 17, 64)        0         \n",
            "_________________________________________________________________\n",
            "conv2d_7 (Conv2D)            (None, 12, 15, 64)        12352     \n",
            "_________________________________________________________________\n",
            "batch_normalization_7 (Batch (None, 12, 15, 64)        256       \n",
            "_________________________________________________________________\n",
            "activation_7 (Activation)    (None, 12, 15, 64)        0         \n",
            "_________________________________________________________________\n",
            "conv2d_8 (Conv2D)            (None, 1, 15, 128)        98432     \n",
            "_________________________________________________________________\n",
            "batch_normalization_8 (Batch (None, 1, 15, 128)        512       \n",
            "_________________________________________________________________\n",
            "activation_8 (Activation)    (None, 1, 15, 128)        0         \n",
            "_________________________________________________________________\n",
            "max_pooling2d_7 (MaxPooling2 (None, 1, 7, 128)         0         \n",
            "_________________________________________________________________\n",
            "flatten (Flatten)            (None, 896)               0         \n",
            "_________________________________________________________________\n",
            "dense (Dense)                (None, 128)               114816    \n",
            "_________________________________________________________________\n",
            "batch_normalization_9 (Batch (None, 128)               512       \n",
            "_________________________________________________________________\n",
            "activation_9 (Activation)    (None, 128)               0         \n",
            "_________________________________________________________________\n",
            "dropout (Dropout)            (None, 128)               0         \n",
            "_________________________________________________________________\n",
            "dense_1 (Dense)              (None, 64)                8256      \n",
            "_________________________________________________________________\n",
            "batch_normalization_10 (Batc (None, 64)                256       \n",
            "_________________________________________________________________\n",
            "activation_10 (Activation)   (None, 64)                0         \n",
            "_________________________________________________________________\n",
            "dropout_1 (Dropout)          (None, 64)                0         \n",
            "_________________________________________________________________\n",
            "dense_2 (Dense)              (None, 1)                 65        \n",
            "=================================================================\n",
            "Total params: 280,785\n",
            "Trainable params: 279,441\n",
            "Non-trainable params: 1,344\n",
            "_________________________________________________________________\n"
          ],
          "name": "stdout"
        }
      ]
    },
    {
      "cell_type": "code",
      "metadata": {
        "colab_type": "code",
        "id": "07Ic6-6uNJQa",
        "colab": {}
      },
      "source": [
        "adam = Adam(learning_rate = 0.003)\n",
        "model.compile(loss='mean_squared_error', optimizer=adam, metrics=['mae','mse'])"
      ],
      "execution_count": 0,
      "outputs": []
    },
    {
      "cell_type": "code",
      "metadata": {
        "colab_type": "code",
        "id": "VZAN2aBPNJQj",
        "outputId": "64be291a-f367-4597-9753-c4a2ca5bc193",
        "colab": {
          "base_uri": "https://localhost:8080/",
          "height": 1000
        }
      },
      "source": [
        "early_stop = EarlyStopping(patience = 30)\n",
        "check_point = ModelCheckpoint(filepath='/content/drive/My Drive/Colab Notebooks/세종병원/best_age.h5', save_best_only=True)\n",
        "\n",
        "epochs = 200\n",
        "batch_size = 64\n",
        "\n",
        "history = model.fit(X_train, y_train, epochs=epochs, batch_size=batch_size, callbacks=[early_stop, check_point], validation_data=(X_val, y_val)) "
      ],
      "execution_count": 13,
      "outputs": [
        {
          "output_type": "stream",
          "text": [
            "Epoch 1/200\n",
            "38/38 [==============================] - 17s 435ms/step - loss: 3481.1243 - mae: 56.3723 - mse: 3485.2197 - val_loss: 3749.8867 - val_mae: 59.0534 - val_mse: 3742.9763\n",
            "Epoch 2/200\n",
            "38/38 [==============================] - 15s 394ms/step - loss: 2908.7207 - mae: 51.5135 - mse: 2912.2866 - val_loss: 3153.9517 - val_mae: 53.7328 - val_mse: 3147.7883\n",
            "Epoch 3/200\n",
            "38/38 [==============================] - 15s 394ms/step - loss: 2213.6328 - mae: 44.2704 - mse: 2211.3477 - val_loss: 1547.6923 - val_mae: 36.2727 - val_mse: 1546.0593\n",
            "Epoch 4/200\n",
            "38/38 [==============================] - 15s 399ms/step - loss: 1532.9353 - mae: 35.6434 - mse: 1532.4253 - val_loss: 719.0039 - val_mae: 21.3344 - val_mse: 720.0711\n",
            "Epoch 5/200\n",
            "38/38 [==============================] - 14s 380ms/step - loss: 937.1309 - mae: 26.3087 - mse: 936.3854 - val_loss: 809.6193 - val_mae: 24.2097 - val_mse: 811.2194\n",
            "Epoch 6/200\n",
            "38/38 [==============================] - 15s 399ms/step - loss: 548.7440 - mae: 19.3285 - mse: 550.8918 - val_loss: 349.7405 - val_mae: 14.7848 - val_mse: 350.0628\n",
            "Epoch 7/200\n",
            "38/38 [==============================] - 15s 397ms/step - loss: 375.6026 - mae: 15.6528 - mse: 376.7107 - val_loss: 348.2739 - val_mae: 14.2362 - val_mse: 350.9971\n",
            "Epoch 8/200\n",
            "38/38 [==============================] - 15s 398ms/step - loss: 306.8360 - mae: 14.0763 - mse: 307.7390 - val_loss: 220.7659 - val_mae: 11.5865 - val_mse: 223.7758\n",
            "Epoch 9/200\n",
            "38/38 [==============================] - 14s 381ms/step - loss: 288.0578 - mae: 13.5714 - mse: 288.0956 - val_loss: 708.5045 - val_mae: 22.0314 - val_mse: 707.6877\n",
            "Epoch 10/200\n",
            "38/38 [==============================] - 14s 381ms/step - loss: 288.9786 - mae: 13.5073 - mse: 289.6105 - val_loss: 318.2077 - val_mae: 14.6586 - val_mse: 317.6930\n",
            "Epoch 11/200\n",
            "38/38 [==============================] - 15s 394ms/step - loss: 265.5458 - mae: 12.7290 - mse: 264.7003 - val_loss: 218.4378 - val_mae: 11.4703 - val_mse: 220.5160\n",
            "Epoch 12/200\n",
            "38/38 [==============================] - 14s 380ms/step - loss: 268.2218 - mae: 12.9443 - mse: 266.8392 - val_loss: 223.9088 - val_mae: 11.5762 - val_mse: 226.1953\n",
            "Epoch 13/200\n",
            "38/38 [==============================] - 14s 379ms/step - loss: 260.1742 - mae: 12.8783 - mse: 261.7116 - val_loss: 258.0817 - val_mae: 12.8692 - val_mse: 259.3370\n",
            "Epoch 14/200\n",
            "38/38 [==============================] - 14s 379ms/step - loss: 263.6786 - mae: 12.9547 - mse: 264.6852 - val_loss: 223.0182 - val_mae: 11.6504 - val_mse: 224.1348\n",
            "Epoch 15/200\n",
            "38/38 [==============================] - 15s 398ms/step - loss: 246.6091 - mae: 12.5750 - mse: 247.8557 - val_loss: 195.0340 - val_mae: 10.8666 - val_mse: 197.2081\n",
            "Epoch 16/200\n",
            "38/38 [==============================] - 15s 383ms/step - loss: 251.0948 - mae: 12.6676 - mse: 252.1181 - val_loss: 198.8872 - val_mae: 11.3654 - val_mse: 201.3199\n",
            "Epoch 17/200\n",
            "38/38 [==============================] - 15s 383ms/step - loss: 243.6925 - mae: 12.3867 - mse: 243.2176 - val_loss: 250.3455 - val_mae: 12.1968 - val_mse: 252.7702\n",
            "Epoch 18/200\n",
            "38/38 [==============================] - 15s 398ms/step - loss: 222.1060 - mae: 11.9235 - mse: 223.1512 - val_loss: 172.3232 - val_mae: 9.9533 - val_mse: 174.3413\n",
            "Epoch 19/200\n",
            "38/38 [==============================] - 14s 381ms/step - loss: 228.1566 - mae: 11.9615 - mse: 227.4757 - val_loss: 176.6402 - val_mae: 10.3431 - val_mse: 178.9521\n",
            "Epoch 20/200\n",
            "38/38 [==============================] - 14s 381ms/step - loss: 225.7262 - mae: 11.9547 - mse: 227.6859 - val_loss: 181.1209 - val_mae: 10.1675 - val_mse: 183.7672\n",
            "Epoch 21/200\n",
            "38/38 [==============================] - 14s 381ms/step - loss: 221.5743 - mae: 11.7490 - mse: 219.6271 - val_loss: 181.2820 - val_mae: 10.4246 - val_mse: 184.1317\n",
            "Epoch 22/200\n",
            "38/38 [==============================] - 14s 381ms/step - loss: 222.4038 - mae: 11.9797 - mse: 222.3664 - val_loss: 194.2453 - val_mae: 10.5933 - val_mse: 196.0255\n",
            "Epoch 23/200\n",
            "38/38 [==============================] - 14s 380ms/step - loss: 212.4803 - mae: 11.6554 - mse: 212.9187 - val_loss: 231.2770 - val_mae: 11.4344 - val_mse: 232.3306\n",
            "Epoch 24/200\n",
            "38/38 [==============================] - 14s 380ms/step - loss: 208.7165 - mae: 11.5491 - mse: 209.2052 - val_loss: 197.8605 - val_mae: 11.1567 - val_mse: 198.7714\n",
            "Epoch 25/200\n",
            "38/38 [==============================] - 14s 380ms/step - loss: 197.9896 - mae: 11.2180 - mse: 197.4332 - val_loss: 198.6925 - val_mae: 11.1185 - val_mse: 198.9067\n",
            "Epoch 26/200\n",
            "38/38 [==============================] - 15s 384ms/step - loss: 212.5237 - mae: 11.5879 - mse: 209.8641 - val_loss: 205.1120 - val_mae: 10.8602 - val_mse: 206.2818\n",
            "Epoch 27/200\n",
            "38/38 [==============================] - 14s 381ms/step - loss: 202.5235 - mae: 11.3918 - mse: 202.0457 - val_loss: 240.1965 - val_mae: 12.3571 - val_mse: 242.3333\n",
            "Epoch 28/200\n",
            "38/38 [==============================] - 15s 382ms/step - loss: 198.7406 - mae: 11.1342 - mse: 199.6317 - val_loss: 175.6000 - val_mae: 10.2953 - val_mse: 177.1165\n",
            "Epoch 29/200\n",
            "38/38 [==============================] - 14s 381ms/step - loss: 209.8514 - mae: 11.5081 - mse: 210.2169 - val_loss: 175.6641 - val_mae: 10.3667 - val_mse: 177.8752\n",
            "Epoch 30/200\n",
            "38/38 [==============================] - 14s 380ms/step - loss: 202.8318 - mae: 11.2620 - mse: 201.8289 - val_loss: 182.3586 - val_mae: 10.4389 - val_mse: 185.2305\n",
            "Epoch 31/200\n",
            "38/38 [==============================] - 14s 380ms/step - loss: 199.5582 - mae: 11.2013 - mse: 200.0897 - val_loss: 215.9193 - val_mae: 11.0574 - val_mse: 217.2479\n",
            "Epoch 32/200\n",
            "38/38 [==============================] - 14s 380ms/step - loss: 190.6870 - mae: 10.9523 - mse: 190.5611 - val_loss: 191.9573 - val_mae: 11.0861 - val_mse: 194.1035\n",
            "Epoch 33/200\n",
            "38/38 [==============================] - 14s 379ms/step - loss: 190.0745 - mae: 10.9990 - mse: 190.0861 - val_loss: 177.3712 - val_mae: 10.5987 - val_mse: 178.8764\n",
            "Epoch 34/200\n",
            "38/38 [==============================] - 14s 380ms/step - loss: 178.4828 - mae: 10.5830 - mse: 179.6010 - val_loss: 272.5238 - val_mae: 13.5158 - val_mse: 272.2533\n",
            "Epoch 35/200\n",
            "38/38 [==============================] - 14s 378ms/step - loss: 173.9731 - mae: 10.4248 - mse: 174.1083 - val_loss: 173.5463 - val_mae: 10.0325 - val_mse: 175.7523\n",
            "Epoch 36/200\n",
            "38/38 [==============================] - 14s 379ms/step - loss: 174.6709 - mae: 10.4465 - mse: 172.9267 - val_loss: 194.9646 - val_mae: 10.7762 - val_mse: 195.6432\n",
            "Epoch 37/200\n",
            "38/38 [==============================] - 14s 378ms/step - loss: 179.5097 - mae: 10.6779 - mse: 180.4566 - val_loss: 183.1366 - val_mae: 10.2606 - val_mse: 182.8765\n",
            "Epoch 38/200\n",
            "38/38 [==============================] - 14s 379ms/step - loss: 167.7179 - mae: 10.2673 - mse: 167.8835 - val_loss: 258.9281 - val_mae: 12.0157 - val_mse: 260.5691\n",
            "Epoch 39/200\n",
            "38/38 [==============================] - 14s 380ms/step - loss: 182.1264 - mae: 10.6569 - mse: 182.0830 - val_loss: 375.1109 - val_mae: 16.0301 - val_mse: 376.8623\n",
            "Epoch 40/200\n",
            "38/38 [==============================] - 14s 380ms/step - loss: 167.1307 - mae: 10.2671 - mse: 167.5786 - val_loss: 198.7573 - val_mae: 11.0355 - val_mse: 200.4541\n",
            "Epoch 41/200\n",
            "38/38 [==============================] - 15s 382ms/step - loss: 165.6953 - mae: 10.3039 - mse: 166.0733 - val_loss: 180.9972 - val_mae: 10.5122 - val_mse: 182.6131\n",
            "Epoch 42/200\n",
            "38/38 [==============================] - 15s 384ms/step - loss: 191.2093 - mae: 10.8954 - mse: 190.9507 - val_loss: 224.6303 - val_mae: 11.1765 - val_mse: 221.5233\n",
            "Epoch 43/200\n",
            "38/38 [==============================] - 15s 386ms/step - loss: 183.6069 - mae: 10.5449 - mse: 181.0907 - val_loss: 173.0350 - val_mae: 10.4217 - val_mse: 175.3074\n",
            "Epoch 44/200\n",
            "38/38 [==============================] - 15s 387ms/step - loss: 173.9041 - mae: 10.4671 - mse: 174.5646 - val_loss: 203.6641 - val_mae: 11.2699 - val_mse: 204.9746\n",
            "Epoch 45/200\n",
            "38/38 [==============================] - 14s 381ms/step - loss: 157.7606 - mae: 9.9944 - mse: 157.3196 - val_loss: 189.9906 - val_mae: 11.0601 - val_mse: 191.5791\n",
            "Epoch 46/200\n",
            "38/38 [==============================] - 14s 381ms/step - loss: 155.9370 - mae: 10.0363 - mse: 155.9561 - val_loss: 279.8444 - val_mae: 13.6957 - val_mse: 280.5949\n",
            "Epoch 47/200\n",
            "38/38 [==============================] - 14s 381ms/step - loss: 148.7268 - mae: 9.7589 - mse: 148.5431 - val_loss: 210.1440 - val_mae: 11.0162 - val_mse: 208.5508\n",
            "Epoch 48/200\n",
            "38/38 [==============================] - 15s 395ms/step - loss: 150.1349 - mae: 9.7503 - mse: 150.6375 - val_loss: 166.1826 - val_mae: 10.0333 - val_mse: 167.0952\n",
            "Epoch 49/200\n",
            "38/38 [==============================] - 15s 382ms/step - loss: 154.9027 - mae: 9.8079 - mse: 154.2147 - val_loss: 183.7798 - val_mae: 10.7104 - val_mse: 185.3213\n",
            "Epoch 50/200\n",
            "38/38 [==============================] - 14s 381ms/step - loss: 147.9316 - mae: 9.5207 - mse: 147.0071 - val_loss: 187.0107 - val_mae: 10.8643 - val_mse: 189.2951\n",
            "Epoch 51/200\n",
            "38/38 [==============================] - 15s 382ms/step - loss: 145.3654 - mae: 9.4703 - mse: 144.6393 - val_loss: 170.9196 - val_mae: 10.0071 - val_mse: 170.8585\n",
            "Epoch 52/200\n",
            "38/38 [==============================] - 15s 383ms/step - loss: 141.3243 - mae: 9.5378 - mse: 141.0333 - val_loss: 168.8210 - val_mae: 9.9718 - val_mse: 171.2648\n",
            "Epoch 53/200\n",
            "38/38 [==============================] - 14s 381ms/step - loss: 143.3116 - mae: 9.4610 - mse: 142.6721 - val_loss: 173.9651 - val_mae: 10.1485 - val_mse: 175.9461\n",
            "Epoch 54/200\n",
            "38/38 [==============================] - 14s 381ms/step - loss: 136.9434 - mae: 9.2200 - mse: 136.8595 - val_loss: 169.0049 - val_mae: 9.8917 - val_mse: 170.3607\n",
            "Epoch 55/200\n",
            "38/38 [==============================] - 15s 382ms/step - loss: 130.9948 - mae: 9.0871 - mse: 131.1588 - val_loss: 199.4233 - val_mae: 11.2681 - val_mse: 200.9879\n",
            "Epoch 56/200\n",
            "38/38 [==============================] - 15s 382ms/step - loss: 130.8047 - mae: 9.0965 - mse: 131.2766 - val_loss: 179.6818 - val_mae: 10.3951 - val_mse: 182.1221\n",
            "Epoch 57/200\n",
            "38/38 [==============================] - 15s 382ms/step - loss: 133.9126 - mae: 9.0626 - mse: 133.5183 - val_loss: 191.8200 - val_mae: 10.5668 - val_mse: 192.6773\n",
            "Epoch 58/200\n",
            "38/38 [==============================] - 15s 382ms/step - loss: 133.7440 - mae: 9.0861 - mse: 134.1968 - val_loss: 178.9465 - val_mae: 10.4454 - val_mse: 179.6604\n",
            "Epoch 59/200\n",
            "38/38 [==============================] - 15s 382ms/step - loss: 131.3512 - mae: 9.0848 - mse: 131.1259 - val_loss: 168.3084 - val_mae: 10.1652 - val_mse: 169.1781\n",
            "Epoch 60/200\n",
            "38/38 [==============================] - 15s 383ms/step - loss: 131.6769 - mae: 9.0868 - mse: 131.8722 - val_loss: 196.6535 - val_mae: 10.5291 - val_mse: 196.6025\n",
            "Epoch 61/200\n",
            "38/38 [==============================] - 15s 388ms/step - loss: 138.5602 - mae: 9.2698 - mse: 138.9234 - val_loss: 193.5401 - val_mae: 10.6444 - val_mse: 195.9382\n",
            "Epoch 62/200\n",
            "38/38 [==============================] - 15s 388ms/step - loss: 130.3341 - mae: 8.9573 - mse: 128.9248 - val_loss: 242.1146 - val_mae: 12.3027 - val_mse: 245.6493\n",
            "Epoch 63/200\n",
            "38/38 [==============================] - 15s 383ms/step - loss: 130.9259 - mae: 9.1303 - mse: 131.2626 - val_loss: 254.5292 - val_mae: 12.8783 - val_mse: 257.3774\n",
            "Epoch 64/200\n",
            "38/38 [==============================] - 15s 383ms/step - loss: 123.3480 - mae: 8.8643 - mse: 123.8066 - val_loss: 186.4616 - val_mae: 10.7707 - val_mse: 186.0733\n",
            "Epoch 65/200\n",
            "38/38 [==============================] - 15s 383ms/step - loss: 124.4909 - mae: 8.8225 - mse: 124.2524 - val_loss: 180.5138 - val_mae: 10.4342 - val_mse: 182.5910\n",
            "Epoch 66/200\n",
            "38/38 [==============================] - 15s 384ms/step - loss: 120.4249 - mae: 8.6113 - mse: 120.5915 - val_loss: 191.5650 - val_mae: 10.4861 - val_mse: 195.2432\n",
            "Epoch 67/200\n",
            "38/38 [==============================] - 14s 381ms/step - loss: 118.2788 - mae: 8.5506 - mse: 117.6228 - val_loss: 177.7119 - val_mae: 10.3927 - val_mse: 180.8008\n",
            "Epoch 68/200\n",
            "38/38 [==============================] - 15s 382ms/step - loss: 121.8603 - mae: 8.7373 - mse: 120.9175 - val_loss: 173.3374 - val_mae: 10.0846 - val_mse: 175.8703\n",
            "Epoch 69/200\n",
            "38/38 [==============================] - 15s 382ms/step - loss: 121.0037 - mae: 8.6378 - mse: 120.6530 - val_loss: 181.8634 - val_mae: 10.3808 - val_mse: 183.7853\n",
            "Epoch 70/200\n",
            "38/38 [==============================] - 15s 382ms/step - loss: 114.9355 - mae: 8.4812 - mse: 115.2625 - val_loss: 200.9134 - val_mae: 11.3139 - val_mse: 203.3422\n",
            "Epoch 71/200\n",
            "38/38 [==============================] - 15s 383ms/step - loss: 127.9859 - mae: 8.9330 - mse: 128.2000 - val_loss: 229.5313 - val_mae: 12.0525 - val_mse: 230.4751\n",
            "Epoch 72/200\n",
            "38/38 [==============================] - 14s 381ms/step - loss: 116.3624 - mae: 8.4937 - mse: 116.0845 - val_loss: 179.7339 - val_mae: 10.3009 - val_mse: 182.4263\n",
            "Epoch 73/200\n",
            "38/38 [==============================] - 15s 382ms/step - loss: 119.5055 - mae: 8.6850 - mse: 119.2503 - val_loss: 182.0826 - val_mae: 10.2068 - val_mse: 183.7435\n",
            "Epoch 74/200\n",
            "38/38 [==============================] - 14s 381ms/step - loss: 116.7393 - mae: 8.4916 - mse: 115.6391 - val_loss: 182.1528 - val_mae: 10.3761 - val_mse: 184.8027\n",
            "Epoch 75/200\n",
            "38/38 [==============================] - 15s 382ms/step - loss: 115.5088 - mae: 8.5451 - mse: 115.8733 - val_loss: 185.7627 - val_mae: 10.7138 - val_mse: 187.3031\n",
            "Epoch 76/200\n",
            "38/38 [==============================] - 15s 382ms/step - loss: 110.3268 - mae: 8.2959 - mse: 109.9524 - val_loss: 190.2581 - val_mae: 10.5150 - val_mse: 192.0719\n",
            "Epoch 77/200\n",
            "38/38 [==============================] - 15s 382ms/step - loss: 117.0888 - mae: 8.5710 - mse: 116.7411 - val_loss: 218.5085 - val_mae: 11.3636 - val_mse: 221.9296\n",
            "Epoch 78/200\n",
            "38/38 [==============================] - 15s 382ms/step - loss: 110.2583 - mae: 8.3272 - mse: 109.4260 - val_loss: 296.7763 - val_mae: 13.7981 - val_mse: 297.5904\n"
          ],
          "name": "stdout"
        }
      ]
    },
    {
      "cell_type": "markdown",
      "metadata": {
        "id": "-QIpWDO_XuaQ",
        "colab_type": "text"
      },
      "source": [
        "## **5. Evaluate Model & Visualization**\n",
        "---"
      ]
    },
    {
      "cell_type": "code",
      "metadata": {
        "colab_type": "code",
        "id": "tAfV3_LTNJQ1",
        "outputId": "add02b03-4da5-4f54-fcac-3010e20f127f",
        "colab": {
          "base_uri": "https://localhost:8080/",
          "height": 89
        }
      },
      "source": [
        "train_score = model.evaluate(X_train,y_train)\n",
        "val_score = model.evaluate(X_val,y_val)\n",
        "\n",
        "print('Train Score:',train_score)\n",
        "print('Test Score:',val_score)"
      ],
      "execution_count": 14,
      "outputs": [
        {
          "output_type": "stream",
          "text": [
            "75/75 [==============================] - 4s 56ms/step - loss: 162.6910 - mae: 10.6609 - mse: 162.6910\n",
            "25/25 [==============================] - 1s 54ms/step - loss: 297.5904 - mae: 13.7981 - mse: 297.5904\n",
            "Train Score: [162.69100952148438, 10.660910606384277, 162.69100952148438]\n",
            "Test Score: [297.5904235839844, 13.798091888427734, 297.5904235839844]\n"
          ],
          "name": "stdout"
        }
      ]
    },
    {
      "cell_type": "code",
      "metadata": {
        "colab_type": "code",
        "id": "307e6fPtHj1L",
        "outputId": "0ce15b4a-0faf-4143-8c6a-49d86f6fcbda",
        "colab": {
          "base_uri": "https://localhost:8080/",
          "height": 53
        }
      },
      "source": [
        "print('Average Train MAE:', np.mean(history.history['mae']))\n",
        "print('Average val MAE:', np.mean(history.history['val_mae']))"
      ],
      "execution_count": 15,
      "outputs": [
        {
          "output_type": "stream",
          "text": [
            "Average Train MAE: 12.646269590426714\n",
            "Average val MAE: 13.115102608998617\n"
          ],
          "name": "stdout"
        }
      ]
    },
    {
      "cell_type": "code",
      "metadata": {
        "colab_type": "code",
        "id": "Iwf-XRU4NJRA",
        "outputId": "71dc8fd8-c020-4681-ce93-fcc48780e962",
        "colab": {
          "base_uri": "https://localhost:8080/",
          "height": 573
        }
      },
      "source": [
        "plt.plot(history.history['mae'])\n",
        "plt.plot(history.history['val_mae'])\n",
        "plt.title('MAE')\n",
        "plt.xlabel('epoch')\n",
        "plt.ylabel('mae')\n",
        "plt.legend(['train','val'], loc='upper left')\n",
        "plt.show()\n",
        "\n",
        "plt.plot(history.history['loss'])\n",
        "plt.plot(history.history['val_loss'])\n",
        "plt.title('Loss')\n",
        "plt.xlabel('epoch')\n",
        "plt.ylabel('loss')\n",
        "plt.legend(['train','val'], loc='upper left')\n",
        "plt.show()"
      ],
      "execution_count": 16,
      "outputs": [
        {
          "output_type": "display_data",
          "data": {
            "image/png": "[encoded data removed]",
            "text/plain": [
              "<Figure size 432x288 with 1 Axes>"
            ]
          },
          "metadata": {
            "tags": [],
            "needs_background": "light"
          }
        },
        {
          "output_type": "display_data",
          "data": {
            "image/png": "[encoded data removed]",
            "text/plain": [
              "<Figure size 432x288 with 1 Axes>"
            ]
          },
          "metadata": {
            "tags": [],
            "needs_background": "light"
          }
        }
      ]
    },
    {
      "cell_type": "markdown",
      "metadata": {
        "colab_type": "text",
        "id": "ixECZBVN7fV5"
      },
      "source": [
        "## **6. ROC Curve**\n",
        "---\n",
        "### 6-1. Validation Set"
      ]
    },
    {
      "cell_type": "code",
      "metadata": {
        "colab_type": "code",
        "id": "K6Qpnud436kB",
        "colab": {}
      },
      "source": [
        "val_pred = model.predict(X_val)"
      ],
      "execution_count": 0,
      "outputs": []
    },
    {
      "cell_type": "code",
      "metadata": {
        "id": "NPDUHM6OmWcJ",
        "colab_type": "code",
        "colab": {
          "base_uri": "https://localhost:8080/",
          "height": 1000
        },
        "outputId": "7fa93692-be2e-4b7b-8dc7-957085445c7f"
      },
      "source": [
        "val_pred"
      ],
      "execution_count": 25,
      "outputs": [
        {
          "output_type": "execute_result",
          "data": {
            "text/plain": [
              "array([[ 1.9463449 ],\n",
              "       [33.994583  ],\n",
              "       [14.883433  ],\n",
              "       [ 2.6379848 ],\n",
              "       [32.097584  ],\n",
              "       [26.357384  ],\n",
              "       [ 2.804825  ],\n",
              "       [24.601183  ],\n",
              "       [ 2.1871555 ],\n",
              "       [ 1.3209159 ],\n",
              "       [26.542965  ],\n",
              "       [ 4.7351704 ],\n",
              "       [40.221573  ],\n",
              "       [38.360836  ],\n",
              "       [ 3.1911142 ],\n",
              "       [39.375492  ],\n",
              "       [37.239037  ],\n",
              "       [ 2.5959404 ],\n",
              "       [ 2.109325  ],\n",
              "       [ 2.617705  ],\n",
              "       [ 4.224766  ],\n",
              "       [32.9666    ],\n",
              "       [ 4.7517524 ],\n",
              "       [15.071225  ],\n",
              "       [32.001072  ],\n",
              "       [ 2.524593  ],\n",
              "       [ 8.960067  ],\n",
              "       [31.655563  ],\n",
              "       [24.939371  ],\n",
              "       [ 3.5700731 ],\n",
              "       [32.21887   ],\n",
              "       [ 1.9647849 ],\n",
              "       [40.78185   ],\n",
              "       [39.754616  ],\n",
              "       [ 3.0106668 ],\n",
              "       [26.681864  ],\n",
              "       [ 5.7304816 ],\n",
              "       [19.290867  ],\n",
              "       [42.89328   ],\n",
              "       [42.190784  ],\n",
              "       [ 3.3406377 ],\n",
              "       [46.827522  ],\n",
              "       [42.552753  ],\n",
              "       [50.620132  ],\n",
              "       [ 3.164588  ],\n",
              "       [ 3.7178216 ],\n",
              "       [36.950264  ],\n",
              "       [ 1.4784412 ],\n",
              "       [ 2.825747  ],\n",
              "       [ 2.5412593 ],\n",
              "       [37.52076   ],\n",
              "       [40.01502   ],\n",
              "       [ 4.694953  ],\n",
              "       [44.700226  ],\n",
              "       [35.366646  ],\n",
              "       [ 3.6961868 ],\n",
              "       [ 5.6824594 ],\n",
              "       [ 2.519101  ],\n",
              "       [ 2.7982032 ],\n",
              "       [36.162422  ],\n",
              "       [43.61605   ],\n",
              "       [33.214756  ],\n",
              "       [32.466732  ],\n",
              "       [31.288496  ],\n",
              "       [34.21597   ],\n",
              "       [39.075405  ],\n",
              "       [ 1.8420238 ],\n",
              "       [ 1.3142555 ],\n",
              "       [43.626953  ],\n",
              "       [42.40661   ],\n",
              "       [ 8.886307  ],\n",
              "       [ 2.6420786 ],\n",
              "       [12.29097   ],\n",
              "       [41.913162  ],\n",
              "       [40.298244  ],\n",
              "       [ 3.210089  ],\n",
              "       [ 3.7478456 ],\n",
              "       [39.023197  ],\n",
              "       [ 2.5292232 ],\n",
              "       [11.456776  ],\n",
              "       [39.23372   ],\n",
              "       [35.360138  ],\n",
              "       [21.720633  ],\n",
              "       [ 2.247416  ],\n",
              "       [ 2.4497628 ],\n",
              "       [ 3.9930568 ],\n",
              "       [ 3.0128882 ],\n",
              "       [40.708393  ],\n",
              "       [31.600817  ],\n",
              "       [13.287207  ],\n",
              "       [36.980206  ],\n",
              "       [ 2.1094143 ],\n",
              "       [ 2.7587476 ],\n",
              "       [16.05638   ],\n",
              "       [37.533867  ],\n",
              "       [29.746115  ],\n",
              "       [ 1.8866088 ],\n",
              "       [ 2.832418  ],\n",
              "       [31.727978  ],\n",
              "       [41.440193  ],\n",
              "       [ 3.7687364 ],\n",
              "       [40.595276  ],\n",
              "       [ 2.4771123 ],\n",
              "       [30.63517   ],\n",
              "       [ 1.7844019 ],\n",
              "       [ 2.723821  ],\n",
              "       [ 2.6069243 ],\n",
              "       [ 2.952643  ],\n",
              "       [39.01292   ],\n",
              "       [41.676247  ],\n",
              "       [34.16441   ],\n",
              "       [28.06114   ],\n",
              "       [ 1.7502608 ],\n",
              "       [38.758476  ],\n",
              "       [ 4.362607  ],\n",
              "       [ 2.3907518 ],\n",
              "       [24.354494  ],\n",
              "       [33.004894  ],\n",
              "       [33.201275  ],\n",
              "       [ 4.6336837 ],\n",
              "       [30.436459  ],\n",
              "       [ 3.4699214 ],\n",
              "       [45.972996  ],\n",
              "       [33.83656   ],\n",
              "       [39.2459    ],\n",
              "       [28.361538  ],\n",
              "       [30.307415  ],\n",
              "       [ 1.426487  ],\n",
              "       [12.582287  ],\n",
              "       [ 1.7939658 ],\n",
              "       [36.933052  ],\n",
              "       [ 2.6793256 ],\n",
              "       [17.31984   ],\n",
              "       [41.569843  ],\n",
              "       [27.779905  ],\n",
              "       [ 2.434157  ],\n",
              "       [29.116196  ],\n",
              "       [22.016493  ],\n",
              "       [35.87525   ],\n",
              "       [17.219807  ],\n",
              "       [36.184437  ],\n",
              "       [ 3.4474573 ],\n",
              "       [ 2.1206324 ],\n",
              "       [ 2.8571713 ],\n",
              "       [ 5.718983  ],\n",
              "       [34.020668  ],\n",
              "       [ 2.4450307 ],\n",
              "       [26.11539   ],\n",
              "       [ 3.3952713 ],\n",
              "       [13.979594  ],\n",
              "       [30.463408  ],\n",
              "       [ 2.3952024 ],\n",
              "       [37.889137  ],\n",
              "       [30.991158  ],\n",
              "       [ 3.0337973 ],\n",
              "       [24.629282  ],\n",
              "       [42.61875   ],\n",
              "       [ 2.5578864 ],\n",
              "       [43.445194  ],\n",
              "       [31.203718  ],\n",
              "       [ 4.796539  ],\n",
              "       [27.237978  ],\n",
              "       [12.4536495 ],\n",
              "       [ 1.8717253 ],\n",
              "       [ 1.7455525 ],\n",
              "       [ 2.1799877 ],\n",
              "       [32.617065  ],\n",
              "       [ 1.8074021 ],\n",
              "       [22.753271  ],\n",
              "       [37.3751    ],\n",
              "       [ 1.4242313 ],\n",
              "       [40.11918   ],\n",
              "       [ 2.0385356 ],\n",
              "       [49.167553  ],\n",
              "       [ 3.112873  ],\n",
              "       [47.899452  ],\n",
              "       [39.105366  ],\n",
              "       [ 3.3114274 ],\n",
              "       [43.036427  ],\n",
              "       [46.757107  ],\n",
              "       [ 2.4709985 ],\n",
              "       [33.372658  ],\n",
              "       [ 2.8562484 ],\n",
              "       [ 2.699583  ],\n",
              "       [19.812042  ],\n",
              "       [38.977962  ],\n",
              "       [34.723373  ],\n",
              "       [14.332978  ],\n",
              "       [ 2.9943507 ],\n",
              "       [42.42376   ],\n",
              "       [ 2.4297953 ],\n",
              "       [14.178379  ],\n",
              "       [38.741714  ],\n",
              "       [42.44294   ],\n",
              "       [ 1.7002931 ],\n",
              "       [41.12231   ],\n",
              "       [13.925522  ],\n",
              "       [31.47564   ],\n",
              "       [ 1.3417435 ],\n",
              "       [36.672073  ],\n",
              "       [ 9.177673  ],\n",
              "       [41.04861   ],\n",
              "       [18.20344   ],\n",
              "       [ 2.7969446 ],\n",
              "       [ 3.1112196 ],\n",
              "       [40.84164   ],\n",
              "       [26.696478  ],\n",
              "       [ 2.0824082 ],\n",
              "       [ 3.4062054 ],\n",
              "       [ 7.7214174 ],\n",
              "       [ 2.071422  ],\n",
              "       [ 6.9015274 ],\n",
              "       [35.708332  ],\n",
              "       [ 2.488599  ],\n",
              "       [ 3.040717  ],\n",
              "       [34.859875  ],\n",
              "       [ 2.9126828 ],\n",
              "       [30.557152  ],\n",
              "       [41.107765  ],\n",
              "       [37.626755  ],\n",
              "       [ 2.4208808 ],\n",
              "       [30.400023  ],\n",
              "       [15.282019  ],\n",
              "       [ 2.6883862 ],\n",
              "       [22.37712   ],\n",
              "       [26.152075  ],\n",
              "       [16.492746  ],\n",
              "       [ 2.7111726 ],\n",
              "       [45.887203  ],\n",
              "       [ 1.8307769 ],\n",
              "       [40.626446  ],\n",
              "       [ 3.2546027 ],\n",
              "       [ 3.5463269 ],\n",
              "       [18.223038  ],\n",
              "       [ 3.2131505 ],\n",
              "       [ 1.5778697 ],\n",
              "       [ 2.9016266 ],\n",
              "       [24.6366    ],\n",
              "       [25.3082    ],\n",
              "       [ 7.201856  ],\n",
              "       [ 3.3875134 ],\n",
              "       [ 1.4441242 ],\n",
              "       [38.026623  ],\n",
              "       [ 3.7385938 ],\n",
              "       [15.453062  ],\n",
              "       [26.74676   ],\n",
              "       [ 3.5365696 ],\n",
              "       [ 6.695135  ],\n",
              "       [40.67361   ],\n",
              "       [ 1.9837537 ],\n",
              "       [ 2.5620654 ],\n",
              "       [ 1.7222099 ],\n",
              "       [ 2.5685349 ],\n",
              "       [39.750664  ],\n",
              "       [ 7.419773  ],\n",
              "       [13.959235  ],\n",
              "       [43.072006  ],\n",
              "       [ 3.4318783 ],\n",
              "       [15.267102  ],\n",
              "       [22.283783  ],\n",
              "       [32.804035  ],\n",
              "       [ 2.1793735 ],\n",
              "       [ 2.9267702 ],\n",
              "       [37.00202   ],\n",
              "       [ 2.4650612 ],\n",
              "       [ 3.8889828 ],\n",
              "       [ 3.731329  ],\n",
              "       [ 4.244778  ],\n",
              "       [ 1.787241  ],\n",
              "       [27.067122  ],\n",
              "       [40.689857  ],\n",
              "       [ 2.6051373 ],\n",
              "       [39.01568   ],\n",
              "       [ 2.3633626 ],\n",
              "       [ 2.1631947 ],\n",
              "       [ 1.8398716 ],\n",
              "       [ 3.6945653 ],\n",
              "       [24.988707  ],\n",
              "       [16.780071  ],\n",
              "       [21.13212   ],\n",
              "       [ 9.407488  ],\n",
              "       [37.508255  ],\n",
              "       [40.817123  ],\n",
              "       [ 2.383434  ],\n",
              "       [ 2.6670775 ],\n",
              "       [ 8.629356  ],\n",
              "       [ 6.887397  ],\n",
              "       [ 2.0592122 ],\n",
              "       [ 3.5658324 ],\n",
              "       [37.595478  ],\n",
              "       [ 3.1170723 ],\n",
              "       [ 1.7896118 ],\n",
              "       [15.40485   ],\n",
              "       [41.001785  ],\n",
              "       [25.914707  ],\n",
              "       [31.583906  ],\n",
              "       [ 6.8393044 ],\n",
              "       [ 9.663089  ],\n",
              "       [ 3.0430162 ],\n",
              "       [ 2.1486874 ],\n",
              "       [ 3.2400348 ],\n",
              "       [24.21791   ],\n",
              "       [32.486423  ],\n",
              "       [40.63304   ],\n",
              "       [43.11626   ],\n",
              "       [ 3.5034704 ],\n",
              "       [10.345722  ],\n",
              "       [ 2.561799  ],\n",
              "       [14.934425  ],\n",
              "       [34.21668   ],\n",
              "       [ 2.774781  ],\n",
              "       [ 2.7957087 ],\n",
              "       [ 1.8632085 ],\n",
              "       [29.734772  ],\n",
              "       [31.494732  ],\n",
              "       [ 3.4285116 ],\n",
              "       [20.425125  ],\n",
              "       [ 5.8918986 ],\n",
              "       [ 1.6389055 ],\n",
              "       [11.023078  ],\n",
              "       [39.32514   ],\n",
              "       [ 1.3884609 ],\n",
              "       [ 3.9133434 ],\n",
              "       [35.478485  ],\n",
              "       [31.19845   ],\n",
              "       [23.722675  ],\n",
              "       [25.810472  ],\n",
              "       [ 3.0756083 ],\n",
              "       [ 1.737601  ],\n",
              "       [22.61563   ],\n",
              "       [ 2.165531  ],\n",
              "       [ 1.7884707 ],\n",
              "       [42.048576  ],\n",
              "       [ 2.8935237 ],\n",
              "       [40.811012  ],\n",
              "       [ 5.1213136 ],\n",
              "       [ 2.7846887 ],\n",
              "       [42.531506  ],\n",
              "       [38.149055  ],\n",
              "       [31.883009  ],\n",
              "       [28.404657  ],\n",
              "       [31.320734  ],\n",
              "       [17.127375  ],\n",
              "       [14.260049  ],\n",
              "       [ 2.7958493 ],\n",
              "       [34.010628  ],\n",
              "       [39.55257   ],\n",
              "       [ 2.9760215 ],\n",
              "       [ 2.9305646 ],\n",
              "       [44.786053  ],\n",
              "       [42.236702  ],\n",
              "       [ 1.3930497 ],\n",
              "       [ 1.4940519 ],\n",
              "       [33.81304   ],\n",
              "       [37.2717    ],\n",
              "       [ 1.8764408 ],\n",
              "       [23.19189   ],\n",
              "       [36.088306  ],\n",
              "       [ 1.3960195 ],\n",
              "       [ 2.8741634 ],\n",
              "       [ 2.0875988 ],\n",
              "       [ 2.7794902 ],\n",
              "       [12.935081  ],\n",
              "       [24.269268  ],\n",
              "       [14.38608   ],\n",
              "       [ 2.2510188 ],\n",
              "       [ 1.9108288 ],\n",
              "       [36.82271   ],\n",
              "       [ 2.1728384 ],\n",
              "       [40.60725   ],\n",
              "       [ 3.1316032 ],\n",
              "       [14.888317  ],\n",
              "       [34.18366   ],\n",
              "       [ 1.6853685 ],\n",
              "       [ 2.1070764 ],\n",
              "       [11.444497  ],\n",
              "       [34.187977  ],\n",
              "       [23.712612  ],\n",
              "       [20.119057  ],\n",
              "       [ 2.9449446 ],\n",
              "       [ 2.3668303 ],\n",
              "       [44.050797  ],\n",
              "       [38.888824  ],\n",
              "       [36.86945   ],\n",
              "       [ 1.7559574 ],\n",
              "       [34.4416    ],\n",
              "       [ 2.7582085 ],\n",
              "       [30.363728  ],\n",
              "       [ 2.026611  ],\n",
              "       [22.613724  ],\n",
              "       [ 6.4374166 ],\n",
              "       [32.628883  ],\n",
              "       [48.55409   ],\n",
              "       [ 2.6167512 ],\n",
              "       [34.89233   ],\n",
              "       [45.36691   ],\n",
              "       [ 2.7572033 ],\n",
              "       [22.802277  ],\n",
              "       [ 3.3493707 ],\n",
              "       [ 7.8275113 ],\n",
              "       [ 1.882513  ],\n",
              "       [ 3.0248399 ],\n",
              "       [42.32783   ],\n",
              "       [32.539093  ],\n",
              "       [31.912796  ],\n",
              "       [40.57969   ],\n",
              "       [41.354687  ],\n",
              "       [27.99746   ],\n",
              "       [33.86959   ],\n",
              "       [ 2.7867699 ],\n",
              "       [ 0.981364  ],\n",
              "       [ 3.4954345 ],\n",
              "       [38.293808  ],\n",
              "       [11.4627075 ],\n",
              "       [ 3.2900856 ],\n",
              "       [ 2.3651927 ],\n",
              "       [15.297578  ],\n",
              "       [ 2.2372642 ],\n",
              "       [25.996088  ],\n",
              "       [30.502035  ],\n",
              "       [34.80399   ],\n",
              "       [35.65658   ],\n",
              "       [ 1.836735  ],\n",
              "       [ 1.8051097 ],\n",
              "       [ 5.317163  ],\n",
              "       [29.587433  ],\n",
              "       [ 6.555262  ],\n",
              "       [ 1.7787104 ],\n",
              "       [36.318466  ],\n",
              "       [ 2.8363395 ],\n",
              "       [ 2.5157394 ],\n",
              "       [ 4.757174  ],\n",
              "       [39.0135    ],\n",
              "       [ 2.2053995 ],\n",
              "       [41.154854  ],\n",
              "       [ 3.8664665 ],\n",
              "       [36.14151   ],\n",
              "       [ 1.434998  ],\n",
              "       [38.82325   ],\n",
              "       [34.857986  ],\n",
              "       [ 5.404858  ],\n",
              "       [37.25047   ],\n",
              "       [ 2.9446895 ],\n",
              "       [ 2.1116598 ],\n",
              "       [ 9.47588   ],\n",
              "       [ 3.094998  ],\n",
              "       [37.020176  ],\n",
              "       [39.121117  ],\n",
              "       [ 2.4968784 ],\n",
              "       [ 2.7149086 ],\n",
              "       [41.505756  ],\n",
              "       [14.019237  ],\n",
              "       [ 1.8441765 ],\n",
              "       [ 1.7023568 ],\n",
              "       [30.206125  ],\n",
              "       [39.410748  ],\n",
              "       [28.935026  ],\n",
              "       [37.214016  ],\n",
              "       [13.676014  ],\n",
              "       [19.276396  ],\n",
              "       [10.740344  ],\n",
              "       [ 3.1849775 ],\n",
              "       [35.710373  ],\n",
              "       [39.316135  ],\n",
              "       [34.7353    ],\n",
              "       [26.111927  ],\n",
              "       [36.607334  ],\n",
              "       [ 2.6924598 ],\n",
              "       [41.98809   ],\n",
              "       [ 5.0223556 ],\n",
              "       [ 1.9283812 ],\n",
              "       [ 2.9925385 ],\n",
              "       [ 1.4112444 ],\n",
              "       [33.569622  ],\n",
              "       [18.82057   ],\n",
              "       [34.370247  ],\n",
              "       [ 2.6212816 ],\n",
              "       [12.197569  ],\n",
              "       [33.715813  ],\n",
              "       [34.343643  ],\n",
              "       [ 1.7746642 ],\n",
              "       [ 1.218251  ],\n",
              "       [ 1.8345644 ],\n",
              "       [ 4.725567  ],\n",
              "       [37.151714  ],\n",
              "       [ 3.3635125 ],\n",
              "       [ 1.0291629 ],\n",
              "       [ 2.7749872 ],\n",
              "       [ 2.050356  ],\n",
              "       [ 0.99309766],\n",
              "       [ 1.695312  ],\n",
              "       [ 1.812403  ],\n",
              "       [ 2.1740324 ],\n",
              "       [ 2.439454  ],\n",
              "       [ 6.2340536 ],\n",
              "       [ 8.928108  ],\n",
              "       [12.494596  ],\n",
              "       [18.432394  ],\n",
              "       [40.605145  ],\n",
              "       [ 3.695627  ],\n",
              "       [26.933746  ],\n",
              "       [38.433628  ],\n",
              "       [47.12454   ],\n",
              "       [ 2.5471013 ],\n",
              "       [ 1.7235847 ],\n",
              "       [34.891747  ],\n",
              "       [ 3.1175048 ],\n",
              "       [ 2.3316007 ],\n",
              "       [27.621975  ],\n",
              "       [ 2.8064725 ],\n",
              "       [ 3.4063714 ],\n",
              "       [ 2.0070224 ],\n",
              "       [32.441868  ],\n",
              "       [26.756485  ],\n",
              "       [10.342058  ],\n",
              "       [24.541245  ],\n",
              "       [ 6.701005  ],\n",
              "       [ 2.2882998 ],\n",
              "       [25.761028  ],\n",
              "       [19.570827  ],\n",
              "       [39.825653  ],\n",
              "       [13.717742  ],\n",
              "       [ 1.7897427 ],\n",
              "       [40.504585  ],\n",
              "       [ 3.2136629 ],\n",
              "       [ 3.1591861 ],\n",
              "       [ 1.9317989 ],\n",
              "       [11.156973  ],\n",
              "       [39.82582   ],\n",
              "       [39.457527  ],\n",
              "       [ 2.483307  ],\n",
              "       [23.342155  ],\n",
              "       [27.051056  ],\n",
              "       [11.081851  ],\n",
              "       [ 2.6898723 ],\n",
              "       [18.461155  ],\n",
              "       [ 1.8246107 ],\n",
              "       [25.923748  ],\n",
              "       [24.611391  ],\n",
              "       [ 1.8192315 ],\n",
              "       [38.57543   ],\n",
              "       [ 9.270572  ],\n",
              "       [ 4.067147  ],\n",
              "       [ 1.6272421 ],\n",
              "       [16.208895  ],\n",
              "       [30.067293  ],\n",
              "       [ 3.61924   ],\n",
              "       [37.865425  ],\n",
              "       [ 2.6001403 ],\n",
              "       [34.748676  ],\n",
              "       [ 4.1222334 ],\n",
              "       [31.738056  ],\n",
              "       [40.0722    ],\n",
              "       [35.712738  ],\n",
              "       [ 2.2072787 ],\n",
              "       [27.024233  ],\n",
              "       [24.88928   ],\n",
              "       [ 3.7670023 ],\n",
              "       [ 3.2439034 ],\n",
              "       [ 1.6964698 ],\n",
              "       [28.172987  ],\n",
              "       [ 8.858759  ],\n",
              "       [ 2.1642556 ],\n",
              "       [46.34231   ],\n",
              "       [ 1.4248459 ],\n",
              "       [ 5.5259266 ],\n",
              "       [ 8.359499  ],\n",
              "       [13.3029585 ],\n",
              "       [ 2.255114  ],\n",
              "       [ 2.5153587 ],\n",
              "       [ 6.1928086 ],\n",
              "       [33.462135  ],\n",
              "       [14.237096  ],\n",
              "       [41.24465   ],\n",
              "       [34.190807  ],\n",
              "       [ 3.1623461 ],\n",
              "       [ 3.3923345 ],\n",
              "       [33.484528  ],\n",
              "       [35.366863  ],\n",
              "       [44.29357   ],\n",
              "       [35.80352   ],\n",
              "       [ 1.2061269 ],\n",
              "       [40.498642  ],\n",
              "       [ 3.2843611 ],\n",
              "       [22.137983  ],\n",
              "       [ 1.9303474 ],\n",
              "       [ 2.7618186 ],\n",
              "       [ 1.7611995 ],\n",
              "       [39.606514  ],\n",
              "       [ 1.6669843 ],\n",
              "       [ 2.6245713 ],\n",
              "       [36.527897  ],\n",
              "       [29.313969  ],\n",
              "       [ 1.7643247 ],\n",
              "       [ 2.2754204 ],\n",
              "       [40.22903   ],\n",
              "       [24.268454  ],\n",
              "       [ 2.8334405 ],\n",
              "       [37.32468   ],\n",
              "       [38.958157  ],\n",
              "       [ 1.8589356 ],\n",
              "       [42.57799   ],\n",
              "       [16.25981   ],\n",
              "       [ 1.3303845 ],\n",
              "       [28.753084  ],\n",
              "       [32.176052  ],\n",
              "       [37.30724   ],\n",
              "       [ 2.3791575 ],\n",
              "       [ 3.10582   ],\n",
              "       [43.381172  ],\n",
              "       [ 1.5483081 ],\n",
              "       [38.43291   ],\n",
              "       [36.783184  ],\n",
              "       [ 2.7487571 ],\n",
              "       [35.68579   ],\n",
              "       [ 7.6044044 ],\n",
              "       [13.452241  ],\n",
              "       [ 2.8947265 ],\n",
              "       [ 2.2881665 ],\n",
              "       [24.599672  ],\n",
              "       [ 3.3386037 ],\n",
              "       [12.222811  ],\n",
              "       [38.515724  ],\n",
              "       [ 2.153603  ],\n",
              "       [28.763596  ],\n",
              "       [ 2.146599  ],\n",
              "       [28.741425  ],\n",
              "       [46.67636   ],\n",
              "       [ 2.8044317 ],\n",
              "       [ 9.366316  ],\n",
              "       [ 1.3889368 ],\n",
              "       [ 2.2786934 ],\n",
              "       [ 2.146001  ],\n",
              "       [ 3.0222557 ],\n",
              "       [ 2.7756245 ],\n",
              "       [15.056666  ],\n",
              "       [38.85922   ],\n",
              "       [43.17652   ],\n",
              "       [35.525246  ],\n",
              "       [ 3.1064973 ],\n",
              "       [ 1.7110848 ],\n",
              "       [32.131557  ],\n",
              "       [38.98241   ],\n",
              "       [34.142025  ],\n",
              "       [26.271303  ],\n",
              "       [ 2.6084619 ],\n",
              "       [16.159601  ],\n",
              "       [40.965576  ],\n",
              "       [19.357613  ],\n",
              "       [21.29153   ],\n",
              "       [41.34125   ],\n",
              "       [36.87929   ],\n",
              "       [31.092522  ],\n",
              "       [40.535206  ],\n",
              "       [20.63725   ],\n",
              "       [39.375553  ],\n",
              "       [ 1.6051805 ],\n",
              "       [ 1.9932392 ],\n",
              "       [ 2.4784672 ],\n",
              "       [40.349144  ],\n",
              "       [32.146145  ],\n",
              "       [34.55158   ],\n",
              "       [35.045082  ],\n",
              "       [38.935703  ],\n",
              "       [ 2.957458  ],\n",
              "       [ 2.8663743 ],\n",
              "       [37.689224  ],\n",
              "       [ 2.9222035 ],\n",
              "       [ 2.978223  ],\n",
              "       [34.571323  ],\n",
              "       [37.858192  ],\n",
              "       [ 9.425751  ],\n",
              "       [ 2.7903821 ],\n",
              "       [35.04911   ],\n",
              "       [33.698486  ],\n",
              "       [35.920376  ],\n",
              "       [ 2.3757913 ],\n",
              "       [21.340582  ],\n",
              "       [36.979202  ],\n",
              "       [39.01247   ],\n",
              "       [34.739677  ],\n",
              "       [27.610397  ],\n",
              "       [ 1.2808285 ],\n",
              "       [27.042162  ],\n",
              "       [30.865065  ],\n",
              "       [33.114582  ],\n",
              "       [ 3.3005204 ],\n",
              "       [40.11432   ],\n",
              "       [ 3.7438388 ],\n",
              "       [ 1.5453739 ],\n",
              "       [ 2.5860555 ],\n",
              "       [44.095592  ],\n",
              "       [ 1.8650129 ],\n",
              "       [ 2.443392  ],\n",
              "       [ 3.73696   ],\n",
              "       [34.275013  ],\n",
              "       [ 2.3977187 ],\n",
              "       [ 1.8829143 ],\n",
              "       [36.160732  ],\n",
              "       [ 2.487197  ],\n",
              "       [ 1.1462402 ],\n",
              "       [ 2.3594651 ],\n",
              "       [42.110203  ],\n",
              "       [35.572586  ],\n",
              "       [40.99118   ],\n",
              "       [33.90483   ],\n",
              "       [10.907293  ],\n",
              "       [ 3.535379  ],\n",
              "       [ 2.2302146 ],\n",
              "       [ 1.4116724 ],\n",
              "       [ 3.116353  ],\n",
              "       [37.435307  ],\n",
              "       [41.548237  ],\n",
              "       [16.731651  ],\n",
              "       [ 3.8900647 ],\n",
              "       [38.416046  ],\n",
              "       [39.436287  ],\n",
              "       [35.522392  ],\n",
              "       [ 2.6400943 ],\n",
              "       [15.216314  ],\n",
              "       [ 8.955831  ],\n",
              "       [ 2.9742136 ],\n",
              "       [ 2.8102603 ],\n",
              "       [19.615837  ],\n",
              "       [46.958065  ],\n",
              "       [ 1.8539519 ],\n",
              "       [42.32581   ],\n",
              "       [ 8.739122  ],\n",
              "       [10.375841  ],\n",
              "       [15.924973  ],\n",
              "       [ 3.1439378 ],\n",
              "       [34.675888  ],\n",
              "       [ 8.990983  ],\n",
              "       [21.448034  ],\n",
              "       [ 1.9543297 ],\n",
              "       [34.574314  ],\n",
              "       [ 1.3553593 ],\n",
              "       [37.039783  ],\n",
              "       [48.3955    ],\n",
              "       [ 2.9259584 ],\n",
              "       [ 2.0116198 ],\n",
              "       [ 2.3252995 ],\n",
              "       [21.961782  ],\n",
              "       [ 2.8700912 ],\n",
              "       [ 3.181238  ],\n",
              "       [ 3.577174  ],\n",
              "       [11.30008   ],\n",
              "       [32.443916  ],\n",
              "       [ 2.9399462 ],\n",
              "       [ 2.4896092 ],\n",
              "       [ 3.800329  ],\n",
              "       [ 3.708816  ],\n",
              "       [26.803373  ],\n",
              "       [ 1.4250877 ],\n",
              "       [38.126934  ],\n",
              "       [41.60466   ],\n",
              "       [32.937386  ],\n",
              "       [27.731781  ],\n",
              "       [39.782417  ],\n",
              "       [ 3.1680417 ],\n",
              "       [12.988789  ],\n",
              "       [ 2.1377468 ],\n",
              "       [ 6.231186  ],\n",
              "       [37.762554  ],\n",
              "       [ 1.7943783 ],\n",
              "       [32.341778  ],\n",
              "       [24.021225  ],\n",
              "       [30.32572   ],\n",
              "       [ 2.6739202 ],\n",
              "       [ 1.4159219 ],\n",
              "       [37.536865  ],\n",
              "       [36.31579   ],\n",
              "       [31.485176  ],\n",
              "       [ 2.614348  ],\n",
              "       [35.231304  ],\n",
              "       [ 3.700756  ],\n",
              "       [43.36032   ],\n",
              "       [44.260708  ],\n",
              "       [41.257343  ],\n",
              "       [ 2.6296182 ],\n",
              "       [ 5.956023  ],\n",
              "       [41.82977   ],\n",
              "       [ 3.382504  ],\n",
              "       [ 3.7378159 ],\n",
              "       [15.246862  ],\n",
              "       [41.464283  ],\n",
              "       [33.28849   ],\n",
              "       [26.668463  ],\n",
              "       [ 2.0256026 ],\n",
              "       [ 2.1160498 ],\n",
              "       [ 2.3388956 ],\n",
              "       [39.610603  ],\n",
              "       [40.66742   ],\n",
              "       [ 2.5867095 ],\n",
              "       [ 3.268277  ],\n",
              "       [37.975876  ],\n",
              "       [46.42706   ],\n",
              "       [37.283863  ],\n",
              "       [ 1.1303624 ],\n",
              "       [ 2.229789  ]], dtype=float32)"
            ]
          },
          "metadata": {
            "tags": []
          },
          "execution_count": 25
        }
      ]
    },
    {
      "cell_type": "code",
      "metadata": {
        "colab_type": "code",
        "id": "-uDVia-SydDW",
        "colab": {}
      },
      "source": [
        "val_pred_prob = np.max(val_pred, axis=-1)\n",
        "val_pred_cat = np.argmax(val_pred, axis=-1)"
      ],
      "execution_count": 0,
      "outputs": []
    },
    {
      "cell_type": "code",
      "metadata": {
        "colab_type": "code",
        "id": "ViemozUwNJRZ",
        "outputId": "db123698-6d06-4f5f-e77a-29b201f7cc54",
        "colab": {
          "base_uri": "https://localhost:8080/",
          "height": 573
        }
      },
      "source": [
        "def plot_roc_curve(fpr, tpr, label=None):\n",
        "  plt.plot(fpr,tpr,'r-',linewidth=5, label=label)\n",
        "  plt.plot([0,1],[0,1],'k--')\n",
        "  plt.axis([0,1,0,1])\n",
        "  plt.xlabel(\"FPR\")\n",
        "  plt.ylabel(\"TPR\")\n",
        "\n",
        "fpr, tpr, _  = roc_curve(y_val[:,1],val_pred_prob)\n",
        "plot_roc_curve(fpr,tpr)\n",
        "plt.title('val_pred_prob')\n",
        "plt.show()\n",
        "\n",
        "fpr, tpr, _  = roc_curve(y_val[:,1],val_pred_cat)\n",
        "plot_roc_curve(fpr,tpr)\n",
        "plt.title('val_pred_cat')\n",
        "plt.show()"
      ],
      "execution_count": 0,
      "outputs": [
        {
          "output_type": "display_data",
          "data": {
            "image/png": "[encoded data removed]",
            "text/plain": [
              "<Figure size 432x288 with 1 Axes>"
            ]
          },
          "metadata": {
            "tags": [],
            "needs_background": "light"
          }
        },
        {
          "output_type": "display_data",
          "data": {
            "image/png": "[encoded data removed]",
            "text/plain": [
              "<Figure size 432x288 with 1 Axes>"
            ]
          },
          "metadata": {
            "tags": [],
            "needs_background": "light"
          }
        }
      ]
    },
    {
      "cell_type": "code",
      "metadata": {
        "colab_type": "code",
        "id": "tiyaJI9BNJRj",
        "outputId": "140f76e0-67e8-4cd6-8570-7e4ea29a4d95",
        "colab": {
          "base_uri": "https://localhost:8080/",
          "height": 53
        }
      },
      "source": [
        "print('AUC of val_pred_prob =', roc_auc_score(y_val[:,1], val_pred_prob))\n",
        "print('AUC of val_pred_cat =', roc_auc_score(y_val[:,1], val_pred_cat))"
      ],
      "execution_count": 0,
      "outputs": [
        {
          "output_type": "stream",
          "text": [
            "AUC of val_pred_prob = 0.54452\n",
            "AUC of val_pred_cat = 0.731\n"
          ],
          "name": "stdout"
        }
      ]
    },
    {
      "cell_type": "markdown",
      "metadata": {
        "colab_type": "text",
        "id": "CESF-ydBNJRt"
      },
      "source": [
        "### 6-2. Test Set"
      ]
    },
    {
      "cell_type": "code",
      "metadata": {
        "colab_type": "code",
        "id": "ApukKFFl7c8_",
        "colab": {}
      },
      "source": [
        "y_pred = model.predict(X_test)"
      ],
      "execution_count": 0,
      "outputs": []
    },
    {
      "cell_type": "code",
      "metadata": {
        "colab_type": "code",
        "id": "8y7BcVMx7c9d",
        "colab": {}
      },
      "source": [
        "test_pred_prob = np.max(y_pred,axis=-1)\n",
        "test_pred_cat = np.argmax(y_pred, axis=-1)"
      ],
      "execution_count": 0,
      "outputs": []
    },
    {
      "cell_type": "code",
      "metadata": {
        "colab_type": "code",
        "id": "Y9l1CRuJ7c98",
        "outputId": "32420641-6454-4e1f-be71-080b52a4972a",
        "colab": {
          "base_uri": "https://localhost:8080/",
          "height": 573
        }
      },
      "source": [
        "def plot_roc_curve(fpr, tpr, label=None):\n",
        "  plt.plot(fpr,tpr,'r-',linewidth=5, label=label)\n",
        "  plt.plot([0,1],[0,1],'k--')\n",
        "  plt.axis([0,1,0,1])\n",
        "  plt.xlabel(\"FPR\")\n",
        "  plt.ylabel(\"TPR\")\n",
        "\n",
        "fpr, tpr, _  = roc_curve(y_test[:,1],test_pred_prob)\n",
        "plot_roc_curve(fpr,tpr)\n",
        "plt.title('test_pred_prob')\n",
        "plt.show()\n",
        "\n",
        "fpr, tpr, _  = roc_curve(y_test[:,1],test_pred_cat)\n",
        "plot_roc_curve(fpr,tpr)\n",
        "plt.title('test_pred_cat')\n",
        "plt.show()"
      ],
      "execution_count": 0,
      "outputs": [
        {
          "output_type": "display_data",
          "data": {
            "image/png": "[encoded data removed]",
            "text/plain": [
              "<Figure size 432x288 with 1 Axes>"
            ]
          },
          "metadata": {
            "tags": [],
            "needs_background": "light"
          }
        },
        {
          "output_type": "display_data",
          "data": {
            "image/png": "[encoded data removed]",
            "text/plain": [
              "<Figure size 432x288 with 1 Axes>"
            ]
          },
          "metadata": {
            "tags": [],
            "needs_background": "light"
          }
        }
      ]
    },
    {
      "cell_type": "code",
      "metadata": {
        "colab_type": "code",
        "id": "Fa8D_qqU7c-G",
        "outputId": "6efc6c6e-e88b-4c51-ca16-8063cf39cdd7",
        "colab": {
          "base_uri": "https://localhost:8080/",
          "height": 53
        }
      },
      "source": [
        "print('AUC of test_pred_prob =', roc_auc_score(y_test[:,1], test_pred_prob))\n",
        "print('AUC of test_pred_cat =', roc_auc_score(y_test[:,1], test_pred_cat))"
      ],
      "execution_count": 0,
      "outputs": [
        {
          "output_type": "stream",
          "text": [
            "AUC of test_pred_prob = 0.5138560000000001\n",
            "AUC of test_pred_cat = 0.748\n"
          ],
          "name": "stdout"
        }
      ]
    },
    {
      "cell_type": "code",
      "metadata": {
        "colab_type": "code",
        "id": "a4kkYPnJ9Mz5",
        "colab": {}
      },
      "source": [
        ""
      ],
      "execution_count": 0,
      "outputs": []
    },
    {
      "cell_type": "code",
      "metadata": {
        "colab_type": "code",
        "id": "ruAC46HB9MuG",
        "colab": {}
      },
      "source": [
        ""
      ],
      "execution_count": 0,
      "outputs": []
    },
    {
      "cell_type": "code",
      "metadata": {
        "colab_type": "code",
        "id": "TJQ0hsIX9Msh",
        "colab": {}
      },
      "source": [
        ""
      ],
      "execution_count": 0,
      "outputs": []
    },
    {
      "cell_type": "code",
      "metadata": {
        "colab_type": "code",
        "id": "ZRnhjdU99Mm0",
        "colab": {}
      },
      "source": [
        ""
      ],
      "execution_count": 0,
      "outputs": []
    }
  ]
}
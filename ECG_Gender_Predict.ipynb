{
  "nbformat": 4,
  "nbformat_minor": 0,
  "metadata": {
    "kernelspec": {
      "display_name": "Python 3",
      "language": "python",
      "name": "python3"
    },
    "language_info": {
      "codemirror_mode": {
        "name": "ipython",
        "version": 3
      },
      "file_extension": ".py",
      "mimetype": "text/x-python",
      "name": "python",
      "nbconvert_exporter": "python",
      "pygments_lexer": "ipython3",
      "version": "3.7.3"
    },
    "colab": {
      "name": "ECG_Gender_Predict.ipynb",
      "provenance": [],
      "collapsed_sections": [],
      "include_colab_link": true
    },
    "accelerator": "GPU"
  },
  "cells": [
    {
      "cell_type": "markdown",
      "metadata": {
        "id": "view-in-github",
        "colab_type": "text"
      },
      "source": [
        "<a href=\"https://colab.research.google.com/github/yoonji811/ECGProject/blob/master/ECG_Gender_Predict.ipynb\" target=\"_parent\"><img src=\"https://colab.research.google.com/assets/colab-badge.svg\" alt=\"Open In Colab\"/></a>"
      ]
    },
    {
      "cell_type": "code",
      "metadata": {
        "id": "cEjEetDbNVGL",
        "colab_type": "code",
        "outputId": "5fa5e4d5-ac65-4a3c-b107-1c86fe0d5fca",
        "colab": {
          "base_uri": "https://localhost:8080/",
          "height": 127
        }
      },
      "source": [
        "from google.colab import drive\n",
        "drive.mount('/content/drive')"
      ],
      "execution_count": 0,
      "outputs": [
        {
          "output_type": "stream",
          "text": [
            "Go to this URL in a browser: https://accounts.google.com/o/oauth2/auth?client_id=947318989803-6bn6qk8qdgf4n4g3pfee6491hc0brc4i.apps.googleusercontent.com&redirect_uri=urn%3aietf%3awg%3aoauth%3a2.0%3aoob&response_type=code&scope=email%20https%3a%2f%2fwww.googleapis.com%2fauth%2fdocs.test%20https%3a%2f%2fwww.googleapis.com%2fauth%2fdrive%20https%3a%2f%2fwww.googleapis.com%2fauth%2fdrive.photos.readonly%20https%3a%2f%2fwww.googleapis.com%2fauth%2fpeopleapi.readonly\n",
            "\n",
            "Enter your authorization code:\n",
            "··········\n",
            "Mounted at /content/drive\n"
          ],
          "name": "stdout"
        }
      ]
    },
    {
      "cell_type": "code",
      "metadata": {
        "id": "-OGoNfxJNJM5",
        "colab_type": "code",
        "colab": {}
      },
      "source": [
        "import pandas as pd\n",
        "import numpy as np\n",
        "import matplotlib.pyplot as plt\n",
        "from sklearn.model_selection import train_test_split\n",
        "from sklearn.metrics import roc_curve, roc_auc_score\n",
        "from tensorflow.keras.models import Sequential\n",
        "from tensorflow.keras.layers import Dense, BatchNormalization, Activation, Conv2D, MaxPooling2D, ZeroPadding2D, Dropout,Flatten\n",
        "from tensorflow.keras.optimizers import Adam\n",
        "from tensorflow.keras.callbacks import EarlyStopping, ModelCheckpoint"
      ],
      "execution_count": 0,
      "outputs": []
    },
    {
      "cell_type": "code",
      "metadata": {
        "id": "-tkmgbYwNJNI",
        "colab_type": "code",
        "outputId": "8394c335-3afb-414f-df8c-0a3d376ba5e8",
        "colab": {
          "base_uri": "https://localhost:8080/",
          "height": 439
        }
      },
      "source": [
        "diag = pd.read_excel(\"/content/drive/My Drive/Colab Notebooks/세종병원/Diagnostics_balanced5000.xlsx\",index_col=0)\n",
        "diag"
      ],
      "execution_count": 0,
      "outputs": [
        {
          "output_type": "execute_result",
          "data": {
            "text/html": [
              "<div>\n",
              "<style scoped>\n",
              "    .dataframe tbody tr th:only-of-type {\n",
              "        vertical-align: middle;\n",
              "    }\n",
              "\n",
              "    .dataframe tbody tr th {\n",
              "        vertical-align: top;\n",
              "    }\n",
              "\n",
              "    .dataframe thead th {\n",
              "        text-align: right;\n",
              "    }\n",
              "</style>\n",
              "<table border=\"1\" class=\"dataframe\">\n",
              "  <thead>\n",
              "    <tr style=\"text-align: right;\">\n",
              "      <th></th>\n",
              "      <th>FileName</th>\n",
              "      <th>Rhythm</th>\n",
              "      <th>Beat</th>\n",
              "      <th>PatientAge</th>\n",
              "      <th>DateofBirth</th>\n",
              "      <th>Gender</th>\n",
              "      <th>VentricularRate</th>\n",
              "      <th>AtrialRate</th>\n",
              "      <th>QRSDuration</th>\n",
              "      <th>QTInterval</th>\n",
              "      <th>QTCorrected</th>\n",
              "      <th>RAxis</th>\n",
              "      <th>TAxis</th>\n",
              "      <th>QRSCount</th>\n",
              "      <th>QOnset</th>\n",
              "      <th>QOffset</th>\n",
              "      <th>TOffset</th>\n",
              "    </tr>\n",
              "  </thead>\n",
              "  <tbody>\n",
              "    <tr>\n",
              "      <th>1</th>\n",
              "      <td>MUSE_20180112_073319_29000</td>\n",
              "      <td>SB</td>\n",
              "      <td>TWC</td>\n",
              "      <td>59</td>\n",
              "      <td>01-01-1958</td>\n",
              "      <td>FEMALE</td>\n",
              "      <td>52</td>\n",
              "      <td>52</td>\n",
              "      <td>92</td>\n",
              "      <td>432</td>\n",
              "      <td>401</td>\n",
              "      <td>76</td>\n",
              "      <td>42</td>\n",
              "      <td>8</td>\n",
              "      <td>215</td>\n",
              "      <td>261</td>\n",
              "      <td>431</td>\n",
              "    </tr>\n",
              "    <tr>\n",
              "      <th>14</th>\n",
              "      <td>MUSE_20180115_133559_70000</td>\n",
              "      <td>SB</td>\n",
              "      <td>NONE</td>\n",
              "      <td>54</td>\n",
              "      <td>01-01-1962</td>\n",
              "      <td>FEMALE</td>\n",
              "      <td>59</td>\n",
              "      <td>59</td>\n",
              "      <td>82</td>\n",
              "      <td>416</td>\n",
              "      <td>411</td>\n",
              "      <td>12</td>\n",
              "      <td>28</td>\n",
              "      <td>9</td>\n",
              "      <td>218</td>\n",
              "      <td>259</td>\n",
              "      <td>426</td>\n",
              "    </tr>\n",
              "    <tr>\n",
              "      <th>15</th>\n",
              "      <td>MUSE_20180113_133901_16000</td>\n",
              "      <td>AFIB</td>\n",
              "      <td>STTC</td>\n",
              "      <td>67</td>\n",
              "      <td>01-01-1949</td>\n",
              "      <td>FEMALE</td>\n",
              "      <td>72</td>\n",
              "      <td>65</td>\n",
              "      <td>90</td>\n",
              "      <td>416</td>\n",
              "      <td>455</td>\n",
              "      <td>-1</td>\n",
              "      <td>-15</td>\n",
              "      <td>12</td>\n",
              "      <td>228</td>\n",
              "      <td>273</td>\n",
              "      <td>436</td>\n",
              "    </tr>\n",
              "    <tr>\n",
              "      <th>16</th>\n",
              "      <td>MUSE_20180113_071734_35000</td>\n",
              "      <td>SB</td>\n",
              "      <td>NONE</td>\n",
              "      <td>51</td>\n",
              "      <td>01-01-1965</td>\n",
              "      <td>FEMALE</td>\n",
              "      <td>56</td>\n",
              "      <td>56</td>\n",
              "      <td>88</td>\n",
              "      <td>418</td>\n",
              "      <td>403</td>\n",
              "      <td>52</td>\n",
              "      <td>45</td>\n",
              "      <td>10</td>\n",
              "      <td>212</td>\n",
              "      <td>256</td>\n",
              "      <td>421</td>\n",
              "    </tr>\n",
              "    <tr>\n",
              "      <th>17</th>\n",
              "      <td>MUSE_20180114_121218_64000</td>\n",
              "      <td>SB</td>\n",
              "      <td>RBBB</td>\n",
              "      <td>61</td>\n",
              "      <td>01-01-1955</td>\n",
              "      <td>MALE</td>\n",
              "      <td>58</td>\n",
              "      <td>58</td>\n",
              "      <td>132</td>\n",
              "      <td>440</td>\n",
              "      <td>431</td>\n",
              "      <td>38</td>\n",
              "      <td>39</td>\n",
              "      <td>10</td>\n",
              "      <td>224</td>\n",
              "      <td>290</td>\n",
              "      <td>444</td>\n",
              "    </tr>\n",
              "    <tr>\n",
              "      <th>...</th>\n",
              "      <td>...</td>\n",
              "      <td>...</td>\n",
              "      <td>...</td>\n",
              "      <td>...</td>\n",
              "      <td>...</td>\n",
              "      <td>...</td>\n",
              "      <td>...</td>\n",
              "      <td>...</td>\n",
              "      <td>...</td>\n",
              "      <td>...</td>\n",
              "      <td>...</td>\n",
              "      <td>...</td>\n",
              "      <td>...</td>\n",
              "      <td>...</td>\n",
              "      <td>...</td>\n",
              "      <td>...</td>\n",
              "      <td>...</td>\n",
              "    </tr>\n",
              "    <tr>\n",
              "      <th>10638</th>\n",
              "      <td>MUSE_20181222_204249_88000</td>\n",
              "      <td>SVT</td>\n",
              "      <td>NONE</td>\n",
              "      <td>69</td>\n",
              "      <td>04-21-1948</td>\n",
              "      <td>MALE</td>\n",
              "      <td>178</td>\n",
              "      <td>170</td>\n",
              "      <td>122</td>\n",
              "      <td>308</td>\n",
              "      <td>530</td>\n",
              "      <td>57</td>\n",
              "      <td>225</td>\n",
              "      <td>29</td>\n",
              "      <td>203</td>\n",
              "      <td>264</td>\n",
              "      <td>357</td>\n",
              "    </tr>\n",
              "    <tr>\n",
              "      <th>10639</th>\n",
              "      <td>MUSE_20181222_204302_49000</td>\n",
              "      <td>SVT</td>\n",
              "      <td>NONE</td>\n",
              "      <td>36</td>\n",
              "      <td>03-06-1981</td>\n",
              "      <td>MALE</td>\n",
              "      <td>220</td>\n",
              "      <td>220</td>\n",
              "      <td>110</td>\n",
              "      <td>224</td>\n",
              "      <td>428</td>\n",
              "      <td>-77</td>\n",
              "      <td>79</td>\n",
              "      <td>36</td>\n",
              "      <td>212</td>\n",
              "      <td>267</td>\n",
              "      <td>324</td>\n",
              "    </tr>\n",
              "    <tr>\n",
              "      <th>10641</th>\n",
              "      <td>MUSE_20181222_204306_99000</td>\n",
              "      <td>SVT</td>\n",
              "      <td>NONE</td>\n",
              "      <td>80</td>\n",
              "      <td>06-03-1937</td>\n",
              "      <td>FEMALE</td>\n",
              "      <td>196</td>\n",
              "      <td>73</td>\n",
              "      <td>168</td>\n",
              "      <td>284</td>\n",
              "      <td>513</td>\n",
              "      <td>258</td>\n",
              "      <td>244</td>\n",
              "      <td>32</td>\n",
              "      <td>177</td>\n",
              "      <td>261</td>\n",
              "      <td>319</td>\n",
              "    </tr>\n",
              "    <tr>\n",
              "      <th>10642</th>\n",
              "      <td>MUSE_20181222_204309_22000</td>\n",
              "      <td>SVT</td>\n",
              "      <td>NONE</td>\n",
              "      <td>81</td>\n",
              "      <td>10-21-1936</td>\n",
              "      <td>FEMALE</td>\n",
              "      <td>162</td>\n",
              "      <td>81</td>\n",
              "      <td>162</td>\n",
              "      <td>294</td>\n",
              "      <td>482</td>\n",
              "      <td>110</td>\n",
              "      <td>-75</td>\n",
              "      <td>27</td>\n",
              "      <td>173</td>\n",
              "      <td>254</td>\n",
              "      <td>320</td>\n",
              "    </tr>\n",
              "    <tr>\n",
              "      <th>10645</th>\n",
              "      <td>MUSE_20181222_204314_78000</td>\n",
              "      <td>SVT</td>\n",
              "      <td>NONE</td>\n",
              "      <td>75</td>\n",
              "      <td>10-22-1943</td>\n",
              "      <td>MALE</td>\n",
              "      <td>117</td>\n",
              "      <td>104</td>\n",
              "      <td>140</td>\n",
              "      <td>312</td>\n",
              "      <td>435</td>\n",
              "      <td>263</td>\n",
              "      <td>144</td>\n",
              "      <td>19</td>\n",
              "      <td>208</td>\n",
              "      <td>278</td>\n",
              "      <td>364</td>\n",
              "    </tr>\n",
              "  </tbody>\n",
              "</table>\n",
              "<p>5000 rows × 17 columns</p>\n",
              "</div>"
            ],
            "text/plain": [
              "                         FileName Rhythm  Beat  ...  QOnset QOffset TOffset\n",
              "1      MUSE_20180112_073319_29000     SB   TWC  ...     215     261     431\n",
              "14     MUSE_20180115_133559_70000     SB  NONE  ...     218     259     426\n",
              "15     MUSE_20180113_133901_16000   AFIB  STTC  ...     228     273     436\n",
              "16     MUSE_20180113_071734_35000     SB  NONE  ...     212     256     421\n",
              "17     MUSE_20180114_121218_64000     SB  RBBB  ...     224     290     444\n",
              "...                           ...    ...   ...  ...     ...     ...     ...\n",
              "10638  MUSE_20181222_204249_88000    SVT  NONE  ...     203     264     357\n",
              "10639  MUSE_20181222_204302_49000    SVT  NONE  ...     212     267     324\n",
              "10641  MUSE_20181222_204306_99000    SVT  NONE  ...     177     261     319\n",
              "10642  MUSE_20181222_204309_22000    SVT  NONE  ...     173     254     320\n",
              "10645  MUSE_20181222_204314_78000    SVT  NONE  ...     208     278     364\n",
              "\n",
              "[5000 rows x 17 columns]"
            ]
          },
          "metadata": {
            "tags": []
          },
          "execution_count": 3
        }
      ]
    },
    {
      "cell_type": "code",
      "metadata": {
        "id": "A5XRiU3XQkoo",
        "colab_type": "code",
        "outputId": "7b74598a-3dc4-4adf-b207-31da12088114",
        "colab": {
          "base_uri": "https://localhost:8080/",
          "height": 71
        }
      },
      "source": [
        "diag.Gender.value_counts()"
      ],
      "execution_count": 0,
      "outputs": [
        {
          "output_type": "execute_result",
          "data": {
            "text/plain": [
              "MALE      2500\n",
              "FEMALE    2500\n",
              "Name: Gender, dtype: int64"
            ]
          },
          "metadata": {
            "tags": []
          },
          "execution_count": 4
        }
      ]
    },
    {
      "cell_type": "code",
      "metadata": {
        "id": "J5-6RU4PNJOQ",
        "colab_type": "code",
        "colab": {}
      },
      "source": [
        "ECG = np.load(\"/content/drive/My Drive/Colab Notebooks/세종병원/ECG5_bal_reshape.npy\")"
      ],
      "execution_count": 0,
      "outputs": []
    },
    {
      "cell_type": "code",
      "metadata": {
        "id": "TJ1wJpJENJOX",
        "colab_type": "code",
        "outputId": "f634138c-084b-45ae-f357-a7a6d24a2f9f",
        "colab": {
          "base_uri": "https://localhost:8080/",
          "height": 35
        }
      },
      "source": [
        "print(ECG.shape)"
      ],
      "execution_count": 0,
      "outputs": [
        {
          "output_type": "stream",
          "text": [
            "(5000, 12, 5000, 1)\n"
          ],
          "name": "stdout"
        }
      ]
    },
    {
      "cell_type": "markdown",
      "metadata": {
        "id": "3NGz0izqNJOj",
        "colab_type": "text"
      },
      "source": [
        "# Gender Classification\n",
        "---\n",
        "---"
      ]
    },
    {
      "cell_type": "code",
      "metadata": {
        "id": "zh9Axz9-NJNf",
        "colab_type": "code",
        "colab": {}
      },
      "source": [
        "label_gender = diag.Gender"
      ],
      "execution_count": 0,
      "outputs": []
    },
    {
      "cell_type": "code",
      "metadata": {
        "scrolled": true,
        "id": "3XWWhhCENJOz",
        "colab_type": "code",
        "outputId": "8c3bbac0-a676-45b0-f6da-033a43e416ae",
        "colab": {
          "base_uri": "https://localhost:8080/",
          "height": 233
        }
      },
      "source": [
        "label_gender"
      ],
      "execution_count": 0,
      "outputs": [
        {
          "output_type": "execute_result",
          "data": {
            "text/plain": [
              "1        FEMALE\n",
              "14       FEMALE\n",
              "15       FEMALE\n",
              "16       FEMALE\n",
              "17         MALE\n",
              "          ...  \n",
              "10638      MALE\n",
              "10639      MALE\n",
              "10641    FEMALE\n",
              "10642    FEMALE\n",
              "10645      MALE\n",
              "Name: Gender, Length: 5000, dtype: object"
            ]
          },
          "metadata": {
            "tags": []
          },
          "execution_count": 8
        }
      ]
    },
    {
      "cell_type": "code",
      "metadata": {
        "scrolled": true,
        "id": "-fm-BkUmNJPB",
        "colab_type": "code",
        "colab": {}
      },
      "source": [
        "label_gender = label_gender.apply(lambda x: 1 if x=='MALE' else 0)"
      ],
      "execution_count": 0,
      "outputs": []
    },
    {
      "cell_type": "code",
      "metadata": {
        "id": "RdrQwp7vKK28",
        "colab_type": "code",
        "colab": {}
      },
      "source": [
        "X_train, X_test, y_train, y_test = train_test_split(ECG, label_gender, test_size=0.2, shuffle=True, stratify=label_gender, random_state=42)\n",
        "X_train, X_val, y_train, y_val = train_test_split(X_train, y_train, test_size=0.25, shuffle=True, stratify=y_train, random_state=42)"
      ],
      "execution_count": 0,
      "outputs": []
    },
    {
      "cell_type": "code",
      "metadata": {
        "id": "EV1dPmJYq5ht",
        "colab_type": "code",
        "outputId": "58d4de5c-7de5-429c-9c64-6ebea1f80c07",
        "colab": {
          "base_uri": "https://localhost:8080/",
          "height": 125
        }
      },
      "source": [
        "print('train_male =', sum(y_train))\n",
        "print('train_female =', len(y_train)-sum(y_train))\n",
        "print('val_male =', sum(y_val))\n",
        "print('val_female =', len(y_val)-sum(y_val))\n",
        "print('test_male =', sum(y_test))\n",
        "print('test_female =', len(y_test)-sum(y_test))"
      ],
      "execution_count": 0,
      "outputs": [
        {
          "output_type": "stream",
          "text": [
            "train_male = 1500\n",
            "train_female = 1500\n",
            "val_male = 500\n",
            "val_female = 500\n",
            "test_male = 500\n",
            "test_female = 500\n"
          ],
          "name": "stdout"
        }
      ]
    },
    {
      "cell_type": "code",
      "metadata": {
        "id": "yOjjbrbgNJPZ",
        "colab_type": "code",
        "outputId": "e3eb007e-6de4-4375-d9b9-e6604eaa9386",
        "colab": {
          "base_uri": "https://localhost:8080/",
          "height": 35
        }
      },
      "source": [
        "from keras.utils import to_categorical\n",
        "\n",
        "y_train = to_categorical(y_train,2)  \n",
        "y_val = to_categorical(y_val,2)  \n",
        "y_test = to_categorical(y_test,2)"
      ],
      "execution_count": 0,
      "outputs": [
        {
          "output_type": "stream",
          "text": [
            "Using TensorFlow backend.\n"
          ],
          "name": "stderr"
        }
      ]
    },
    {
      "cell_type": "code",
      "metadata": {
        "id": "Jrc_dcJ_NJPl",
        "colab_type": "code",
        "outputId": "bb32a596-cc7c-45a9-9fc8-2c788e144596",
        "colab": {
          "base_uri": "https://localhost:8080/",
          "height": 125
        }
      },
      "source": [
        "print(X_train.shape)\n",
        "print(X_val.shape)\n",
        "print(X_test.shape)\n",
        "print(y_train.shape)\n",
        "print(y_val.shape)\n",
        "print(y_test.shape)"
      ],
      "execution_count": 0,
      "outputs": [
        {
          "output_type": "stream",
          "text": [
            "(3000, 12, 5000, 1)\n",
            "(1000, 12, 5000, 1)\n",
            "(1000, 12, 5000, 1)\n",
            "(3000, 2)\n",
            "(1000, 2)\n",
            "(1000, 2)\n"
          ],
          "name": "stdout"
        }
      ]
    },
    {
      "cell_type": "markdown",
      "metadata": {
        "id": "JC4t1CV_71a6",
        "colab_type": "text"
      },
      "source": [
        "# Build Model & Train\n",
        "\n"
      ]
    },
    {
      "cell_type": "code",
      "metadata": {
        "id": "UExXPdVnNJP3",
        "colab_type": "code",
        "colab": {}
      },
      "source": [
        "model = Sequential()\n",
        "\n",
        "model.add(ZeroPadding2D(padding=(0,2560),\n",
        "                        input_shape=(12,5000,1))) #########\n",
        "\n",
        "model.add(Conv2D(filters=16,\n",
        "                kernel_size=(1,7)))\n",
        "model.add(BatchNormalization())\n",
        "model.add(Activation('relu'))\n",
        "model.add(MaxPooling2D(pool_size=(1,2)))\n",
        "\n",
        "model.add(Conv2D(filters=16,\n",
        "                kernel_size=(1,5)))\n",
        "model.add(BatchNormalization())\n",
        "model.add(Activation('relu'))\n",
        "model.add(MaxPooling2D(pool_size=(1,4)))\n",
        "\n",
        "model.add(Conv2D(filters=32,\n",
        "                kernel_size=(1,5)))\n",
        "model.add(BatchNormalization())\n",
        "model.add(Activation('relu'))\n",
        "model.add(MaxPooling2D(pool_size=(1,2)))\n",
        "\n",
        "model.add(Conv2D(filters=32,\n",
        "                kernel_size=(1,5)))\n",
        "model.add(BatchNormalization())\n",
        "model.add(Activation('relu'))\n",
        "model.add(MaxPooling2D(pool_size=(1,4)))\n",
        "\n",
        "model.add(Conv2D(filters=64,\n",
        "                kernel_size=(1,5)))\n",
        "model.add(BatchNormalization())\n",
        "model.add(Activation('relu'))\n",
        "model.add(MaxPooling2D(pool_size=(1,2)))\n",
        "\n",
        "model.add(Conv2D(filters=64,\n",
        "                kernel_size=(1,3)))\n",
        "model.add(BatchNormalization())\n",
        "model.add(Activation('relu'))\n",
        "model.add(MaxPooling2D(pool_size=(1,2)))\n",
        "\n",
        "model.add(Conv2D(filters=64,\n",
        "                kernel_size=(1,3)))\n",
        "model.add(BatchNormalization())\n",
        "model.add(Activation('relu'))\n",
        "model.add(MaxPooling2D(pool_size=(1,2)))\n",
        "\n",
        "model.add(Conv2D(filters=64,\n",
        "                kernel_size=(1,3)))\n",
        "model.add(BatchNormalization())\n",
        "model.add(Activation('relu'))"
      ],
      "execution_count": 0,
      "outputs": []
    },
    {
      "cell_type": "code",
      "metadata": {
        "id": "CezDFqNqNJQB",
        "colab_type": "code",
        "colab": {}
      },
      "source": [
        "model.add(Conv2D(filters=128,\n",
        "                kernel_size=(12,1)))\n",
        "model.add(BatchNormalization())\n",
        "model.add(Activation('relu'))\n",
        "model.add(MaxPooling2D(pool_size=(1,2)))"
      ],
      "execution_count": 0,
      "outputs": []
    },
    {
      "cell_type": "code",
      "metadata": {
        "id": "hOIUtaDlNJQJ",
        "colab_type": "code",
        "colab": {}
      },
      "source": [
        "model.add(Flatten())\n",
        "\n",
        "model.add(Dense(128))\n",
        "model.add(BatchNormalization())\n",
        "model.add(Activation('relu'))\n",
        "model.add(Dropout(0.5)) ########\n",
        "\n",
        "model.add(Dense(64))\n",
        "model.add(BatchNormalization())\n",
        "model.add(Activation('relu'))\n",
        "model.add(Dropout(0.5)) #######\n",
        "\n",
        "model.add(Dense(2, activation='softmax'))"
      ],
      "execution_count": 0,
      "outputs": []
    },
    {
      "cell_type": "code",
      "metadata": {
        "id": "QLILR5uJNJQS",
        "colab_type": "code",
        "outputId": "4dcf151f-bf04-419e-8e56-e63580d15463",
        "colab": {
          "base_uri": "https://localhost:8080/",
          "height": 1000
        }
      },
      "source": [
        "model.summary()"
      ],
      "execution_count": 0,
      "outputs": [
        {
          "output_type": "stream",
          "text": [
            "Model: \"sequential\"\n",
            "_________________________________________________________________\n",
            "Layer (type)                 Output Shape              Param #   \n",
            "=================================================================\n",
            "zero_padding2d (ZeroPadding2 (None, 12, 10120, 1)      0         \n",
            "_________________________________________________________________\n",
            "conv2d (Conv2D)              (None, 12, 10114, 16)     128       \n",
            "_________________________________________________________________\n",
            "batch_normalization (BatchNo (None, 12, 10114, 16)     64        \n",
            "_________________________________________________________________\n",
            "activation (Activation)      (None, 12, 10114, 16)     0         \n",
            "_________________________________________________________________\n",
            "max_pooling2d (MaxPooling2D) (None, 12, 5057, 16)      0         \n",
            "_________________________________________________________________\n",
            "conv2d_1 (Conv2D)            (None, 12, 5053, 16)      1296      \n",
            "_________________________________________________________________\n",
            "batch_normalization_1 (Batch (None, 12, 5053, 16)      64        \n",
            "_________________________________________________________________\n",
            "activation_1 (Activation)    (None, 12, 5053, 16)      0         \n",
            "_________________________________________________________________\n",
            "max_pooling2d_1 (MaxPooling2 (None, 12, 1263, 16)      0         \n",
            "_________________________________________________________________\n",
            "conv2d_2 (Conv2D)            (None, 12, 1259, 32)      2592      \n",
            "_________________________________________________________________\n",
            "batch_normalization_2 (Batch (None, 12, 1259, 32)      128       \n",
            "_________________________________________________________________\n",
            "activation_2 (Activation)    (None, 12, 1259, 32)      0         \n",
            "_________________________________________________________________\n",
            "max_pooling2d_2 (MaxPooling2 (None, 12, 629, 32)       0         \n",
            "_________________________________________________________________\n",
            "conv2d_3 (Conv2D)            (None, 12, 625, 32)       5152      \n",
            "_________________________________________________________________\n",
            "batch_normalization_3 (Batch (None, 12, 625, 32)       128       \n",
            "_________________________________________________________________\n",
            "activation_3 (Activation)    (None, 12, 625, 32)       0         \n",
            "_________________________________________________________________\n",
            "max_pooling2d_3 (MaxPooling2 (None, 12, 156, 32)       0         \n",
            "_________________________________________________________________\n",
            "conv2d_4 (Conv2D)            (None, 12, 152, 64)       10304     \n",
            "_________________________________________________________________\n",
            "batch_normalization_4 (Batch (None, 12, 152, 64)       256       \n",
            "_________________________________________________________________\n",
            "activation_4 (Activation)    (None, 12, 152, 64)       0         \n",
            "_________________________________________________________________\n",
            "max_pooling2d_4 (MaxPooling2 (None, 12, 76, 64)        0         \n",
            "_________________________________________________________________\n",
            "conv2d_5 (Conv2D)            (None, 12, 74, 64)        12352     \n",
            "_________________________________________________________________\n",
            "batch_normalization_5 (Batch (None, 12, 74, 64)        256       \n",
            "_________________________________________________________________\n",
            "activation_5 (Activation)    (None, 12, 74, 64)        0         \n",
            "_________________________________________________________________\n",
            "max_pooling2d_5 (MaxPooling2 (None, 12, 37, 64)        0         \n",
            "_________________________________________________________________\n",
            "conv2d_6 (Conv2D)            (None, 12, 35, 64)        12352     \n",
            "_________________________________________________________________\n",
            "batch_normalization_6 (Batch (None, 12, 35, 64)        256       \n",
            "_________________________________________________________________\n",
            "activation_6 (Activation)    (None, 12, 35, 64)        0         \n",
            "_________________________________________________________________\n",
            "max_pooling2d_6 (MaxPooling2 (None, 12, 17, 64)        0         \n",
            "_________________________________________________________________\n",
            "conv2d_7 (Conv2D)            (None, 12, 15, 64)        12352     \n",
            "_________________________________________________________________\n",
            "batch_normalization_7 (Batch (None, 12, 15, 64)        256       \n",
            "_________________________________________________________________\n",
            "activation_7 (Activation)    (None, 12, 15, 64)        0         \n",
            "_________________________________________________________________\n",
            "conv2d_8 (Conv2D)            (None, 1, 15, 128)        98432     \n",
            "_________________________________________________________________\n",
            "batch_normalization_8 (Batch (None, 1, 15, 128)        512       \n",
            "_________________________________________________________________\n",
            "activation_8 (Activation)    (None, 1, 15, 128)        0         \n",
            "_________________________________________________________________\n",
            "max_pooling2d_7 (MaxPooling2 (None, 1, 7, 128)         0         \n",
            "_________________________________________________________________\n",
            "flatten (Flatten)            (None, 896)               0         \n",
            "_________________________________________________________________\n",
            "dense (Dense)                (None, 128)               114816    \n",
            "_________________________________________________________________\n",
            "batch_normalization_9 (Batch (None, 128)               512       \n",
            "_________________________________________________________________\n",
            "activation_9 (Activation)    (None, 128)               0         \n",
            "_________________________________________________________________\n",
            "dropout (Dropout)            (None, 128)               0         \n",
            "_________________________________________________________________\n",
            "dense_1 (Dense)              (None, 64)                8256      \n",
            "_________________________________________________________________\n",
            "batch_normalization_10 (Batc (None, 64)                256       \n",
            "_________________________________________________________________\n",
            "activation_10 (Activation)   (None, 64)                0         \n",
            "_________________________________________________________________\n",
            "dropout_1 (Dropout)          (None, 64)                0         \n",
            "_________________________________________________________________\n",
            "dense_2 (Dense)              (None, 2)                 130       \n",
            "=================================================================\n",
            "Total params: 280,850\n",
            "Trainable params: 279,506\n",
            "Non-trainable params: 1,344\n",
            "_________________________________________________________________\n"
          ],
          "name": "stdout"
        }
      ]
    },
    {
      "cell_type": "code",
      "metadata": {
        "id": "07Ic6-6uNJQa",
        "colab_type": "code",
        "colab": {}
      },
      "source": [
        "adam = Adam(learning_rate = 0.0001)\n",
        "model.compile(loss='categorical_crossentropy', optimizer=adam, metrics = ['accuracy'])"
      ],
      "execution_count": 0,
      "outputs": []
    },
    {
      "cell_type": "code",
      "metadata": {
        "id": "VZAN2aBPNJQj",
        "colab_type": "code",
        "outputId": "0e959775-4853-4225-dc94-0cfc447fc22b",
        "colab": {
          "base_uri": "https://localhost:8080/",
          "height": 917
        }
      },
      "source": [
        "early_stop = EarlyStopping(patience = 5)\n",
        "check_point = ModelCheckpoint(filepath='/content/drive/My Drive/Colab Notebooks/세종병원/best_gender.h5', save_best_only=True)\n",
        "\n",
        "epochs = 50\n",
        "batch_size = 64\n",
        "\n",
        "history = model.fit(X_train, y_train, epochs=epochs, batch_size=batch_size, callbacks=[early_stop, check_point], validation_data=(X_val, y_val)) ########"
      ],
      "execution_count": 0,
      "outputs": [
        {
          "output_type": "stream",
          "text": [
            "Epoch 1/50\n",
            "47/47 [==============================] - 8s 160ms/step - loss: 0.9494 - accuracy: 0.5053 - val_loss: 0.6960 - val_accuracy: 0.5000\n",
            "Epoch 2/50\n",
            "47/47 [==============================] - 6s 131ms/step - loss: 0.8670 - accuracy: 0.5483 - val_loss: 0.6864 - val_accuracy: 0.5410\n",
            "Epoch 3/50\n",
            "47/47 [==============================] - 6s 132ms/step - loss: 0.8139 - accuracy: 0.5750 - val_loss: 0.6631 - val_accuracy: 0.6130\n",
            "Epoch 4/50\n",
            "47/47 [==============================] - 6s 131ms/step - loss: 0.7578 - accuracy: 0.6097 - val_loss: 0.6481 - val_accuracy: 0.6300\n",
            "Epoch 5/50\n",
            "47/47 [==============================] - 6s 132ms/step - loss: 0.7246 - accuracy: 0.6257 - val_loss: 0.6340 - val_accuracy: 0.6400\n",
            "Epoch 6/50\n",
            "47/47 [==============================] - 6s 132ms/step - loss: 0.7065 - accuracy: 0.6380 - val_loss: 0.6231 - val_accuracy: 0.6540\n",
            "Epoch 7/50\n",
            "47/47 [==============================] - 6s 130ms/step - loss: 0.7008 - accuracy: 0.6453 - val_loss: 0.6124 - val_accuracy: 0.6680\n",
            "Epoch 8/50\n",
            "47/47 [==============================] - 6s 129ms/step - loss: 0.6399 - accuracy: 0.6743 - val_loss: 0.5990 - val_accuracy: 0.6810\n",
            "Epoch 9/50\n",
            "47/47 [==============================] - 6s 128ms/step - loss: 0.6400 - accuracy: 0.6723 - val_loss: 0.5911 - val_accuracy: 0.6800\n",
            "Epoch 10/50\n",
            "47/47 [==============================] - 6s 124ms/step - loss: 0.5935 - accuracy: 0.7000 - val_loss: 0.6091 - val_accuracy: 0.6790\n",
            "Epoch 11/50\n",
            "47/47 [==============================] - 6s 129ms/step - loss: 0.5773 - accuracy: 0.7130 - val_loss: 0.5937 - val_accuracy: 0.6920\n",
            "Epoch 12/50\n",
            "47/47 [==============================] - 6s 129ms/step - loss: 0.5535 - accuracy: 0.7257 - val_loss: 0.6488 - val_accuracy: 0.6590\n",
            "Epoch 13/50\n",
            "47/47 [==============================] - 7s 140ms/step - loss: 0.5263 - accuracy: 0.7383 - val_loss: 0.5712 - val_accuracy: 0.7160\n",
            "Epoch 14/50\n",
            "47/47 [==============================] - 6s 129ms/step - loss: 0.5071 - accuracy: 0.7513 - val_loss: 0.5603 - val_accuracy: 0.7210\n",
            "Epoch 15/50\n",
            "47/47 [==============================] - 6s 125ms/step - loss: 0.4991 - accuracy: 0.7633 - val_loss: 0.5922 - val_accuracy: 0.6990\n",
            "Epoch 16/50\n",
            "47/47 [==============================] - 6s 125ms/step - loss: 0.4817 - accuracy: 0.7623 - val_loss: 0.5651 - val_accuracy: 0.7150\n",
            "Epoch 17/50\n",
            "47/47 [==============================] - 6s 133ms/step - loss: 0.4514 - accuracy: 0.7893 - val_loss: 0.5483 - val_accuracy: 0.7130\n",
            "Epoch 18/50\n",
            "47/47 [==============================] - 6s 124ms/step - loss: 0.4395 - accuracy: 0.7957 - val_loss: 0.5492 - val_accuracy: 0.7120\n",
            "Epoch 19/50\n",
            "47/47 [==============================] - 6s 125ms/step - loss: 0.4201 - accuracy: 0.8043 - val_loss: 0.5510 - val_accuracy: 0.7210\n",
            "Epoch 20/50\n",
            "47/47 [==============================] - 6s 136ms/step - loss: 0.3981 - accuracy: 0.8133 - val_loss: 0.5443 - val_accuracy: 0.7220\n",
            "Epoch 21/50\n",
            "47/47 [==============================] - 6s 130ms/step - loss: 0.3663 - accuracy: 0.8400 - val_loss: 0.5569 - val_accuracy: 0.7190\n",
            "Epoch 22/50\n",
            "47/47 [==============================] - 6s 129ms/step - loss: 0.3525 - accuracy: 0.8433 - val_loss: 0.5794 - val_accuracy: 0.7120\n",
            "Epoch 23/50\n",
            "47/47 [==============================] - 6s 125ms/step - loss: 0.3307 - accuracy: 0.8640 - val_loss: 0.5698 - val_accuracy: 0.7150\n",
            "Epoch 24/50\n",
            "47/47 [==============================] - 6s 125ms/step - loss: 0.3125 - accuracy: 0.8697 - val_loss: 0.5805 - val_accuracy: 0.7320\n",
            "Epoch 25/50\n",
            "47/47 [==============================] - 6s 126ms/step - loss: 0.2945 - accuracy: 0.8767 - val_loss: 0.5609 - val_accuracy: 0.7310\n"
          ],
          "name": "stdout"
        }
      ]
    },
    {
      "cell_type": "code",
      "metadata": {
        "id": "tAfV3_LTNJQ1",
        "colab_type": "code",
        "outputId": "77977949-5d4b-4492-e598-66f8c701c6c8",
        "colab": {
          "base_uri": "https://localhost:8080/",
          "height": 89
        }
      },
      "source": [
        "train_acc = model.evaluate(X_train,y_train)\n",
        "val_acc = model.evaluate(X_val,y_val)\n",
        "\n",
        "print('Train Acc:',train_acc)\n",
        "print('Test Acc:',val_acc)"
      ],
      "execution_count": 0,
      "outputs": [
        {
          "output_type": "stream",
          "text": [
            "94/94 [==============================] - 2s 18ms/step - loss: 0.1802 - accuracy: 0.9627\n",
            "32/32 [==============================] - 1s 17ms/step - loss: 0.5541 - accuracy: 0.7310\n",
            "Train Acc: [0.18020989000797272, 0.9626666903495789]\n",
            "Test Acc: [0.554148256778717, 0.7310000061988831]\n"
          ],
          "name": "stdout"
        }
      ]
    },
    {
      "cell_type": "code",
      "metadata": {
        "id": "307e6fPtHj1L",
        "colab_type": "code",
        "outputId": "420eb80c-0066-49ba-9aa4-3781de537e7c",
        "colab": {
          "base_uri": "https://localhost:8080/",
          "height": 53
        }
      },
      "source": [
        "print('Average Train Acc:', np.mean(history.history['accuracy']))\n",
        "print('Average val Acc:', np.mean(history.history['val_accuracy']))"
      ],
      "execution_count": 0,
      "outputs": [
        {
          "output_type": "stream",
          "text": [
            "Average Train Acc: 0.7257733345031738\n",
            "Average val Acc: 0.6785999965667725\n"
          ],
          "name": "stdout"
        }
      ]
    },
    {
      "cell_type": "code",
      "metadata": {
        "id": "Iwf-XRU4NJRA",
        "colab_type": "code",
        "outputId": "acced96e-2824-49d6-dc1e-018b33575df1",
        "colab": {
          "base_uri": "https://localhost:8080/",
          "height": 573
        }
      },
      "source": [
        "import matplotlib.pyplot as plt\n",
        "\n",
        "plt.plot(history.history['accuracy'])\n",
        "plt.plot(history.history['val_accuracy'])\n",
        "plt.title('Accuracy')\n",
        "plt.xlabel('epoch')\n",
        "plt.ylabel('accuracy')\n",
        "plt.legend(['train','val'], loc='upper left')\n",
        "plt.show()\n",
        "\n",
        "plt.plot(history.history['loss'])\n",
        "plt.plot(history.history['val_loss'])\n",
        "plt.title('Loss')\n",
        "plt.xlabel('epoch')\n",
        "plt.ylabel('loss')\n",
        "plt.legend(['train','val'], loc='upper left')\n",
        "plt.show()"
      ],
      "execution_count": 0,
      "outputs": [
        {
          "output_type": "display_data",
          "data": {
            "image/png": "[encoded data removed]",
            "text/plain": [
              "<Figure size 432x288 with 1 Axes>"
            ]
          },
          "metadata": {
            "tags": [],
            "needs_background": "light"
          }
        },
        {
          "output_type": "display_data",
          "data": {
            "image/png": "[encoded data removed]",
            "text/plain": [
              "<Figure size 432x288 with 1 Axes>"
            ]
          },
          "metadata": {
            "tags": [],
            "needs_background": "light"
          }
        }
      ]
    },
    {
      "cell_type": "markdown",
      "metadata": {
        "id": "ixECZBVN7fV5",
        "colab_type": "text"
      },
      "source": [
        "# ROC Curve of Validation Set"
      ]
    },
    {
      "cell_type": "code",
      "metadata": {
        "id": "K6Qpnud436kB",
        "colab_type": "code",
        "colab": {}
      },
      "source": [
        "val_pred = model.predict(X_val)"
      ],
      "execution_count": 0,
      "outputs": []
    },
    {
      "cell_type": "code",
      "metadata": {
        "id": "-uDVia-SydDW",
        "colab_type": "code",
        "colab": {}
      },
      "source": [
        "val_pred_prob = np.max(val_pred, axis=-1)\n",
        "val_pred_cat = np.argmax(val_pred, axis=-1)"
      ],
      "execution_count": 0,
      "outputs": []
    },
    {
      "cell_type": "code",
      "metadata": {
        "id": "ViemozUwNJRZ",
        "colab_type": "code",
        "outputId": "db123698-6d06-4f5f-e77a-29b201f7cc54",
        "colab": {
          "base_uri": "https://localhost:8080/",
          "height": 573
        }
      },
      "source": [
        "def plot_roc_curve(fpr, tpr, label=None):\n",
        "  plt.plot(fpr,tpr,'r-',linewidth=5, label=label)\n",
        "  plt.plot([0,1],[0,1],'k--')\n",
        "  plt.axis([0,1,0,1])\n",
        "  plt.xlabel(\"FPR\")\n",
        "  plt.ylabel(\"TPR\")\n",
        "\n",
        "fpr, tpr, _  = roc_curve(y_val[:,1],val_pred_prob)\n",
        "plot_roc_curve(fpr,tpr)\n",
        "plt.title('val_pred_prob')\n",
        "plt.show()\n",
        "\n",
        "fpr, tpr, _  = roc_curve(y_val[:,1],val_pred_cat)\n",
        "plot_roc_curve(fpr,tpr)\n",
        "plt.title('val_pred_cat')\n",
        "plt.show()"
      ],
      "execution_count": 0,
      "outputs": [
        {
          "output_type": "display_data",
          "data": {
            "image/png": "[encoded data removed]",
            "text/plain": [
              "<Figure size 432x288 with 1 Axes>"
            ]
          },
          "metadata": {
            "tags": [],
            "needs_background": "light"
          }
        },
        {
          "output_type": "display_data",
          "data": {
            "image/png": "[encoded data removed]",
            "text/plain": [
              "<Figure size 432x288 with 1 Axes>"
            ]
          },
          "metadata": {
            "tags": [],
            "needs_background": "light"
          }
        }
      ]
    },
    {
      "cell_type": "code",
      "metadata": {
        "id": "tiyaJI9BNJRj",
        "colab_type": "code",
        "outputId": "140f76e0-67e8-4cd6-8570-7e4ea29a4d95",
        "colab": {
          "base_uri": "https://localhost:8080/",
          "height": 53
        }
      },
      "source": [
        "print('AUC of val_pred_prob =', roc_auc_score(y_val[:,1], val_pred_prob))\n",
        "print('AUC of val_pred_cat =', roc_auc_score(y_val[:,1], val_pred_cat))"
      ],
      "execution_count": 0,
      "outputs": [
        {
          "output_type": "stream",
          "text": [
            "AUC of val_pred_prob = 0.54452\n",
            "AUC of val_pred_cat = 0.731\n"
          ],
          "name": "stdout"
        }
      ]
    },
    {
      "cell_type": "markdown",
      "metadata": {
        "id": "CESF-ydBNJRt",
        "colab_type": "text"
      },
      "source": [
        "# ROC Curve of Test Set"
      ]
    },
    {
      "cell_type": "code",
      "metadata": {
        "colab_type": "code",
        "id": "ApukKFFl7c8_",
        "colab": {}
      },
      "source": [
        "y_pred = model.predict(X_test)"
      ],
      "execution_count": 0,
      "outputs": []
    },
    {
      "cell_type": "code",
      "metadata": {
        "colab_type": "code",
        "id": "8y7BcVMx7c9d",
        "colab": {}
      },
      "source": [
        "test_pred_prob = np.max(y_pred,axis=-1)\n",
        "test_pred_cat = np.argmax(y_pred, axis=-1)"
      ],
      "execution_count": 0,
      "outputs": []
    },
    {
      "cell_type": "code",
      "metadata": {
        "colab_type": "code",
        "outputId": "32420641-6454-4e1f-be71-080b52a4972a",
        "id": "Y9l1CRuJ7c98",
        "colab": {
          "base_uri": "https://localhost:8080/",
          "height": 573
        }
      },
      "source": [
        "def plot_roc_curve(fpr, tpr, label=None):\n",
        "  plt.plot(fpr,tpr,'r-',linewidth=5, label=label)\n",
        "  plt.plot([0,1],[0,1],'k--')\n",
        "  plt.axis([0,1,0,1])\n",
        "  plt.xlabel(\"FPR\")\n",
        "  plt.ylabel(\"TPR\")\n",
        "\n",
        "fpr, tpr, _  = roc_curve(y_test[:,1],test_pred_prob)\n",
        "plot_roc_curve(fpr,tpr)\n",
        "plt.title('test_pred_prob')\n",
        "plt.show()\n",
        "\n",
        "fpr, tpr, _  = roc_curve(y_test[:,1],test_pred_cat)\n",
        "plot_roc_curve(fpr,tpr)\n",
        "plt.title('test_pred_cat')\n",
        "plt.show()"
      ],
      "execution_count": 0,
      "outputs": [
        {
          "output_type": "display_data",
          "data": {
            "image/png": "[encoded data removed]",
            "text/plain": [
              "<Figure size 432x288 with 1 Axes>"
            ]
          },
          "metadata": {
            "tags": [],
            "needs_background": "light"
          }
        },
        {
          "output_type": "display_data",
          "data": {
            "image/png": "[encoded data removed]",
            "text/plain": [
              "<Figure size 432x288 with 1 Axes>"
            ]
          },
          "metadata": {
            "tags": [],
            "needs_background": "light"
          }
        }
      ]
    },
    {
      "cell_type": "code",
      "metadata": {
        "colab_type": "code",
        "outputId": "6efc6c6e-e88b-4c51-ca16-8063cf39cdd7",
        "id": "Fa8D_qqU7c-G",
        "colab": {
          "base_uri": "https://localhost:8080/",
          "height": 53
        }
      },
      "source": [
        "print('AUC of test_pred_prob =', roc_auc_score(y_test[:,1], test_pred_prob))\n",
        "print('AUC of test_pred_cat =', roc_auc_score(y_test[:,1], test_pred_cat))"
      ],
      "execution_count": 0,
      "outputs": [
        {
          "output_type": "stream",
          "text": [
            "AUC of test_pred_prob = 0.5138560000000001\n",
            "AUC of test_pred_cat = 0.748\n"
          ],
          "name": "stdout"
        }
      ]
    },
    {
      "cell_type": "code",
      "metadata": {
        "id": "hpOg10E5NJR5",
        "colab_type": "code",
        "outputId": "408e2803-c8c9-4e84-e845-4347f355c4a7",
        "colab": {
          "base_uri": "https://localhost:8080/",
          "height": 35
        }
      },
      "source": [
        "tpr"
      ],
      "execution_count": 0,
      "outputs": [
        {
          "output_type": "execute_result",
          "data": {
            "text/plain": [
              "array([0.  , 0.76, 1.  ])"
            ]
          },
          "metadata": {
            "tags": []
          },
          "execution_count": 45
        }
      ]
    },
    {
      "cell_type": "code",
      "metadata": {
        "id": "5UNOBH_v9Mpq",
        "colab_type": "code",
        "outputId": "2de8140b-b4bf-4a54-9541-3e48c1c84c39",
        "colab": {
          "base_uri": "https://localhost:8080/",
          "height": 35
        }
      },
      "source": [
        "fpr"
      ],
      "execution_count": 0,
      "outputs": [
        {
          "output_type": "execute_result",
          "data": {
            "text/plain": [
              "array([0.   , 0.264, 1.   ])"
            ]
          },
          "metadata": {
            "tags": []
          },
          "execution_count": 46
        }
      ]
    },
    {
      "cell_type": "code",
      "metadata": {
        "id": "clU3OEU89Ncc",
        "colab_type": "code",
        "colab": {}
      },
      "source": [
        ""
      ],
      "execution_count": 0,
      "outputs": []
    },
    {
      "cell_type": "code",
      "metadata": {
        "id": "U-ckNcPC9Na6",
        "colab_type": "code",
        "colab": {}
      },
      "source": [
        ""
      ],
      "execution_count": 0,
      "outputs": []
    },
    {
      "cell_type": "code",
      "metadata": {
        "id": "a4kkYPnJ9Mz5",
        "colab_type": "code",
        "colab": {}
      },
      "source": [
        ""
      ],
      "execution_count": 0,
      "outputs": []
    },
    {
      "cell_type": "code",
      "metadata": {
        "id": "ruAC46HB9MuG",
        "colab_type": "code",
        "colab": {}
      },
      "source": [
        ""
      ],
      "execution_count": 0,
      "outputs": []
    },
    {
      "cell_type": "code",
      "metadata": {
        "id": "TJQ0hsIX9Msh",
        "colab_type": "code",
        "colab": {}
      },
      "source": [
        ""
      ],
      "execution_count": 0,
      "outputs": []
    },
    {
      "cell_type": "code",
      "metadata": {
        "id": "ZRnhjdU99Mm0",
        "colab_type": "code",
        "colab": {}
      },
      "source": [
        ""
      ],
      "execution_count": 0,
      "outputs": []
    }
  ]
}